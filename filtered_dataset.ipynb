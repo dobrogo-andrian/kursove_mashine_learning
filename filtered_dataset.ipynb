{
 "cells": [
  {
   "cell_type": "markdown",
   "id": "af188f643b976e74",
   "metadata": {},
   "source": [
    "### data filtering"
   ]
  },
  {
   "cell_type": "markdown",
   "id": "3ba0df8a06be8cf5",
   "metadata": {},
   "source": [
    "#### imports"
   ]
  },
  {
   "cell_type": "code",
   "id": "be55cf326bbe14c",
   "metadata": {
    "ExecuteTime": {
     "end_time": "2025-05-16T08:21:22.362336Z",
     "start_time": "2025-05-16T08:21:22.349829Z"
    }
   },
   "source": [
    "import pandas as pd\n",
    "import pandasql as ps\n",
    "from helpers import get_next_filename "
   ],
   "outputs": [],
   "execution_count": 26
  },
  {
   "cell_type": "markdown",
   "id": "c62bfdd43a12b80d",
   "metadata": {},
   "source": [
    "#### functions"
   ]
  },
  {
   "cell_type": "code",
   "id": "initial_id",
   "metadata": {
    "collapsed": true,
    "ExecuteTime": {
     "end_time": "2025-05-16T08:21:22.387999Z",
     "start_time": "2025-05-16T08:21:22.364337Z"
    }
   },
   "source": [
    "def process_dataset(df):\n",
    "    \"\"\"\n",
    "    Processes the dataset according to the specified requirements:\n",
    "    1. Filters rows where position contains 'Data Scientist' or 'Data Science'.\n",
    "    2. Sorts rows by the 'period' field.\n",
    "    3. Adds a new column 'final_seniority' with the first non-empty value from seniority -> local experience seniority -> general experience seniority.\n",
    "    4. Adds a new column 'final_salary' as a concatenation of salary, bonuses flag, and bonuses amount.\n",
    "    5. Repeats rows based on the 'frequency' column value (converted to int). Defaults to 1 if frequency is missing or NaN.\n",
    "    6. Keeps only the columns: 'period', 'final_seniority', 'final_salary'.\n",
    "\n",
    "    :param df: Input DataFrame.\n",
    "    :return: Processed DataFrame.\n",
    "    \"\"\"\n",
    "    # Step 1: Filter rows where position contains 'Data Scientist' or 'Data Science'\n",
    "    filtered_df = df[df['position'].str.contains('Data Scientist|Data Science', na=False)]\n",
    "\n",
    "    # Step 2: Sort rows by the 'period' field\n",
    "    sorted_df = filtered_df.sort_values(by='period')\n",
    "\n",
    "    # Списки категорій\n",
    "    junior_values = [\n",
    "        '1', '1.5', '2', '0.25', 'менше 3 місяців', '0.5', '1 рік', '2 роки', 'півроку', '3 місяці', \n",
    "        'менше 3 місяців', '2.0', '1.0', '0.0', 'менше як 3 місяці', 'пів року', '1,5 року', '1-3 роки', \n",
    "        'до року', 'junior', 'немає тайтлу', 'intern/trainee', \"меньше 3 месяцев\"\n",
    "    ]\n",
    "    middle_values = [\n",
    "        '3', '4', '5', '4 роки', '3 роки', '5 років', '5.0', '4.0', '3.0', '4-6 років', 'middle'\n",
    "    ]\n",
    "    senior_values = [\n",
    "        '10 и более лет', '8', '9', '6', '7', '10 і більше років', '7 років', '6 років', '8 років', 'senior', '7.0', '8.0', '9.0', '10.0', '9 років',\n",
    "        '7-10 років', '10+ років', 'Tech Lead', 'Senior', 'Team Lead', 'Manager', 'Architect','Lead/Team Lead', 'Principal', '6.0', 'head'\n",
    "    ]\n",
    "    \n",
    "    # Функція для визначення категорії\n",
    "    def map_seniority(value):\n",
    "        if pd.isna(value):\n",
    "            return None\n",
    "        value = str(value).strip().lower()\n",
    "        if value in [v.lower() for v in junior_values]:\n",
    "            return 'junior'\n",
    "        elif value in [v.lower() for v in middle_values]:\n",
    "            return 'middle'\n",
    "        elif value in [v.lower() for v in senior_values]:\n",
    "            return 'senior'\n",
    "        return value\n",
    "    \n",
    "    # Додаємо колонку 'final_seniority'\n",
    "    sorted_df['final_seniority'] = sorted_df.apply(\n",
    "        lambda row: next(\n",
    "            (val for val in [row['seniority'], row['general experience seniority'], row['local experience seniority']] if pd.notna(val)),\n",
    "            None\n",
    "        ),\n",
    "        axis=1\n",
    "    )\n",
    "    \n",
    "    # Оновлюємо значення в колонці 'final_seniority' залежно від категорій\n",
    "    sorted_df['final_seniority'] = sorted_df['final_seniority'].apply(map_seniority)\n",
    "\n",
    "    # Додаємо 'final_salary' column\n",
    "    sorted_df[\"salary\"] = sorted_df.apply(lambda row: process_salary(row[\"salary\"], row.name), axis=1)\n",
    "    sorted_df['final_salary'] = sorted_df.apply(calculate_final_salary, axis=1)\n",
    "    processed_df = apply_frequency(sorted_df)\n",
    "    final_columns = ['period', 'position', \"final_seniority\", \"final_salary\"]\n",
    "    combined_df = processed_df[final_columns]\n",
    "    \n",
    "    avg_middle_salary = data1[data1['final_seniority'] == 'middle']['final_salary'].mean()\n",
    "\n",
    "    def update_seniority(row):\n",
    "        if row['final_seniority'] == 'senior' and row['final_salary'] < avg_middle_salary:\n",
    "            return 'junior'\n",
    "        elif row['final_seniority'] == 'junior' and row['final_salary'] > avg_middle_salary:\n",
    "            return 'senior'\n",
    "        else:\n",
    "            return row['final_seniority']\n",
    "        \n",
    "    combined_df.loc[:, 'final_seniority'] = combined_df.apply(update_seniority, axis=1)\n",
    "    return combined_df\n",
    "\n",
    "def process_salary(salary, index):\n",
    "    \"\"\"\n",
    "    Processes the salary values:\n",
    "    - If the value is a range (e.g., \"500 - 1000\"), replaces it with the midpoint of the range.\n",
    "    - If the value contains a \"+\", rounds up to the next whole number.\n",
    "    - If the value contains a comma instead of a dot (e.g., \"3284,69\"), replaces the comma with a dot.\n",
    "    - Converts the value to a float.\n",
    "    - Logs and removes incorrect values.\n",
    "\n",
    "    :param salary: The salary value to process.\n",
    "    :param index: The index of the row being processed.\n",
    "    :return: Processed salary value as a float or None if invalid.\n",
    "    \"\"\"\n",
    "    if pd.isna(salary):\n",
    "        print(f\"Рядок {index}: значення '{salary}' було видалено через 'NaN (відсутнє значення)'\")\n",
    "        df.drop(index, inplace=True)\n",
    "        return None\n",
    "    \n",
    "    salary = str(salary).strip()\n",
    "    \n",
    "    # Обробка діапазонів\n",
    "    if \"-\" in salary:\n",
    "        try:\n",
    "            # Розділяємо діапазон на дві частини\n",
    "            low, high = salary.split(\"-\")\n",
    "            # Перетворюємо частини на float і обчислюємо середину діапазону\n",
    "            return (float(low.strip()) + float(high.strip())) / 2\n",
    "        except ValueError:\n",
    "            print(index, salary, \"Некоректний діапазон\")\n",
    "            return None\n",
    "    \n",
    "    # Обробка значень із \"+\"\n",
    "    if \"+\" in salary:\n",
    "        try:\n",
    "            return float(salary.replace(\"+\", \"\").strip()) + 500\n",
    "        except ValueError:\n",
    "            print(index, salary, \"Некоректне значення з '+'\")\n",
    "            return None\n",
    "    \n",
    "    # Обробка значень із комою замість крапки\n",
    "    if \",\" in salary:\n",
    "        try:\n",
    "            salary = salary.replace(\",\", \".\")\n",
    "            return float(salary)\n",
    "        except ValueError:\n",
    "            print(index, salary, \"Некоректне значення з ','\")\n",
    "            return None\n",
    "    \n",
    "    # Перетворення на float для інших випадків\n",
    "    try:\n",
    "        return float(salary)\n",
    "    except ValueError:\n",
    "        print(index, salary, \"Некоректне значення\")\n",
    "        return None\n",
    "\n",
    "\n",
    "\n",
    "def calculate_final_salary(row):\n",
    "    \"\"\"\n",
    "    Calculates the final salary based on the value in the 'bonuses flag' column.\n",
    "\n",
    "    :param row: The row of the DataFrame being processed.\n",
    "    :return: The calculated final salary as an integer.\n",
    "    \"\"\"\n",
    "    # Якщо bonuses flag має одне з цих значень, залишаємо тільки salary\n",
    "    if row['bonuses flag'] in [\"Отримую бонус за гарні показники роботи, але нерегулярно\", None, \"Ні, не отримую\"]:\n",
    "        return int(row['salary'])\n",
    "    \n",
    "    # Якщо bonuses flag має одне з цих значень, розраховуємо бонуси на місяць\n",
    "    elif row['bonuses flag'] in [\"Отримую бонус щокварталу\", \"Отримую бонус щомісяця\", \"Отримую бонус щороку\"]:\n",
    "        # Перевіряємо, чи є значення в bonuses amount (щоб уникнути проблем із NaN)\n",
    "        if pd.notna(row['bonuses amount']):\n",
    "            if row['bonuses flag'] == \"Отримую бонус щомісяця\":\n",
    "                return int(row['salary'] + float(row['bonuses amount']))\n",
    "            elif row['bonuses flag'] == \"Отримую бонус щокварталу\":\n",
    "                return int(row['salary'] + float(row['bonuses amount']) / 4.0)\n",
    "            elif row['bonuses flag'] == \"Отримую бонус щороку\":\n",
    "                return int(row['salary'] + float(row['bonuses amount']) / 12.0)\n",
    "        else:\n",
    "            return int(row['salary'])\n",
    "    else:\n",
    "        return int(row['salary'])\n",
    "def apply_frequency(df):\n",
    "    \"\"\"\n",
    "    Applies the frequency to repeat rows in the DataFrame based on the 'frequency' column.\n",
    "\n",
    "    :param df: Input DataFrame.\n",
    "    :return: DataFrame with rows repeated based on the 'frequency' column.\n",
    "    \"\"\"\n",
    "    df['frequency'] = df['frequency'].fillna(1.0)\n",
    "\n",
    "    df['frequency'] = df['frequency'].apply(lambda x: max(x, 0))\n",
    "\n",
    "    df['frequency'] = df['frequency'].astype(int)\n",
    "\n",
    "    df = df.loc[df.index.repeat(df['frequency'])].reset_index(drop=True)\n",
    "    return df"
   ],
   "outputs": [],
   "execution_count": 27
  },
  {
   "cell_type": "markdown",
   "id": "12e5938ef30661ec",
   "metadata": {},
   "source": [
    "#### variables"
   ]
  },
  {
   "cell_type": "code",
   "id": "ecddd66369556c21",
   "metadata": {
    "ExecuteTime": {
     "end_time": "2025-05-16T08:21:22.393003Z",
     "start_time": "2025-05-16T08:21:22.389002Z"
    }
   },
   "source": [
    "input_path = \"raw_salary_compile/combined_salary_1.csv\"\n",
    "output_folder = \"filtered_dataset\" "
   ],
   "outputs": [],
   "execution_count": 28
  },
  {
   "cell_type": "markdown",
   "id": "cf9c067233359ba6",
   "metadata": {},
   "source": [
    "#### main functions"
   ]
  },
  {
   "cell_type": "code",
   "id": "1f62c0dd26c10dd",
   "metadata": {
    "ExecuteTime": {
     "end_time": "2025-05-16T08:21:22.953445Z",
     "start_time": "2025-05-16T08:21:22.394221Z"
    }
   },
   "source": [
    "output_path = get_next_filename(\"filtered_dataset\", output_folder)\n",
    "df = pd.read_csv(input_path, low_memory=False)\n",
    "\n",
    "processed_df = process_dataset(df)\n",
    "processed_df.to_csv(output_path, index=False)\n",
    "print(f\"saved file to {output_path}\")"
   ],
   "outputs": [
    {
     "name": "stdout",
     "output_type": "stream",
     "text": [
      "saved file to filtered_dataset\\filtered_dataset_1.csv\n"
     ]
    }
   ],
   "execution_count": 29
  },
  {
   "cell_type": "code",
   "id": "5694f2cbec5719fd",
   "metadata": {
    "ExecuteTime": {
     "end_time": "2025-05-16T08:21:23.013688Z",
     "start_time": "2025-05-16T08:21:22.954770Z"
    }
   },
   "source": [
    "data = pd.read_csv(output_path, low_memory=False)\n",
    "query = \"\"\"\n",
    "    SELECT DISTINCT `final_seniority`\n",
    "    FROM data\n",
    "\"\"\"\n",
    "\n",
    "unique_bonuses_flag = ps.sqldf(query, locals())\n",
    "\n",
    "print(unique_bonuses_flag)"
   ],
   "outputs": [
    {
     "name": "stdout",
     "output_type": "stream",
     "text": [
      "  final_seniority\n",
      "0          junior\n",
      "1          senior\n",
      "2          middle\n"
     ]
    }
   ],
   "execution_count": 30
  },
  {
   "cell_type": "code",
   "id": "292ffb4e025e63db",
   "metadata": {
    "ExecuteTime": {
     "end_time": "2025-05-16T08:21:23.046072Z",
     "start_time": "2025-05-16T08:21:23.014444Z"
    }
   },
   "source": [
    "data1 = pd.read_csv(output_path, low_memory=False)\n",
    "query = \"\"\"\n",
    "    SELECT avg(final_salary)  FROM data \n",
    "    where final_seniority = 'middle'\n",
    "    and period = '2021_H1'\n",
    "    group by final_seniority\n",
    "\"\"\"\n",
    "\n",
    "unique_bonuses_flag = ps.sqldf(query, locals())\n",
    "\n",
    "print(unique_bonuses_flag)"
   ],
   "outputs": [
    {
     "name": "stdout",
     "output_type": "stream",
     "text": [
      "   avg(final_salary)\n",
      "0        3762.789474\n"
     ]
    }
   ],
   "execution_count": 31
  }
 ],
 "metadata": {
  "kernelspec": {
   "display_name": "myenv",
   "language": "python",
   "name": "python3"
  },
  "language_info": {
   "codemirror_mode": {
    "name": "ipython",
    "version": 2
   },
   "file_extension": ".py",
   "mimetype": "text/x-python",
   "name": "python",
   "nbconvert_exporter": "python",
   "pygments_lexer": "ipython2",
   "version": "3.11.2"
  }
 },
 "nbformat": 4,
 "nbformat_minor": 5
}
