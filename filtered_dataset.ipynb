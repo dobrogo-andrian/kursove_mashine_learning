{
 "cells": [
  {
   "metadata": {},
   "cell_type": "markdown",
   "source": "### data filtering",
   "id": "af188f643b976e74"
  },
  {
   "metadata": {},
   "cell_type": "markdown",
   "source": "#### imports",
   "id": "3ba0df8a06be8cf5"
  },
  {
   "metadata": {
    "ExecuteTime": {
     "end_time": "2025-05-10T08:34:15.696392Z",
     "start_time": "2025-05-10T08:34:15.692471Z"
    }
   },
   "cell_type": "code",
   "source": [
    "import pandas as pd\n",
    "import re\n",
    "import os\n",
    "import pandasql as ps"
   ],
   "id": "be55cf326bbe14c",
   "outputs": [],
   "execution_count": 72
  },
  {
   "metadata": {},
   "cell_type": "markdown",
   "source": "#### functions",
   "id": "c62bfdd43a12b80d"
  },
  {
   "cell_type": "code",
   "id": "initial_id",
   "metadata": {
    "collapsed": true,
    "ExecuteTime": {
     "end_time": "2025-05-10T08:34:15.741194Z",
     "start_time": "2025-05-10T08:34:15.718382Z"
    }
   },
   "source": [
    "def get_next_filename(base_filename, folder):\n",
    "    \"\"\"\n",
    "    Генерує унікальну назву файлу, додаючи +1 до номера.\n",
    "    \"\"\"\n",
    "    if not os.path.exists(folder):\n",
    "        os.makedirs(folder)\n",
    "\n",
    "    files = os.listdir(folder)\n",
    "\n",
    "    matching_files = [f for f in files if f.startswith(base_filename) and f.endswith(\".csv\")]\n",
    "\n",
    "    max_number = 0\n",
    "    for file in matching_files:\n",
    "        try:\n",
    "            number = int(file.replace(base_filename, \"\").replace(\".csv\", \"\").strip(\"_\"))\n",
    "            if number > max_number:\n",
    "                max_number = number\n",
    "        except ValueError:\n",
    "            continue\n",
    "\n",
    "    next_number = max_number + 1\n",
    "    return os.path.join(folder, f\"{base_filename}_{next_number}.csv\")\n",
    "def process_dataset(df):\n",
    "    \"\"\"\n",
    "    Processes the dataset according to the specified requirements:\n",
    "    1. Filters rows where position contains 'Data Scientist' or 'Data Science'.\n",
    "    2. Sorts rows by the 'period' field.\n",
    "    3. Adds a new column 'final_seniority' with the first non-empty value from seniority -> local experience seniority -> general experience seniority.\n",
    "    4. Adds a new column 'final_salary' as a concatenation of salary, bonuses flag, and bonuses amount.\n",
    "    5. Repeats rows based on the 'frequency' column value (converted to int). Defaults to 1 if frequency is missing or NaN.\n",
    "    6. Keeps only the columns: 'period', 'final_seniority', 'final_salary'.\n",
    "\n",
    "    :param df: Input DataFrame.\n",
    "    :return: Processed DataFrame.\n",
    "    \"\"\"\n",
    "    # Step 1: Filter rows where position contains 'Data Scientist' or 'Data Science'\n",
    "    filtered_df = df[df['position'].str.contains('Data Scientist|Data Science', na=False)]\n",
    "\n",
    "    # Step 2: Sort rows by the 'period' field\n",
    "    sorted_df = filtered_df.sort_values(by='period')\n",
    "\n",
    "    # Step 3: Add 'final_seniority' column\n",
    "    sorted_df['final_seniority'] = sorted_df.apply(\n",
    "        lambda row: next(\n",
    "            (val for val in [row['seniority'], row['local experience seniority'], row['general experience seniority']] if pd.notna(val)),\n",
    "            None\n",
    "        ),\n",
    "        axis=1\n",
    "    )\n",
    "    # \n",
    "    # Step 4: Add 'final_salary' column\n",
    "    sorted_df['final_salary'] = sorted_df.apply(\n",
    "        lambda row: f\"{row['salary']} {row['bonuses flag']} {row['bonuses amount']}\",\n",
    "        axis=1\n",
    "    )\n",
    "    processed_df = apply_frequency(sorted_df)\n",
    "    final_columns = ['period', 'position', \"final_seniority\", \"final_salary\"]\n",
    "    combined_df = processed_df[final_columns]\n",
    "    return combined_df\n",
    "\n",
    "\n",
    "def apply_frequency(df):\n",
    "    # Заповнюємо пропущені значення у 'frequency' значенням 1.0\n",
    "    df['frequency'] = df['frequency'].fillna(1.0)\n",
    "\n",
    "    # Замінюємо від'ємні значення на 0\n",
    "    df['frequency'] = df['frequency'].apply(lambda x: max(x, 0))\n",
    "\n",
    "    # Перетворюємо значення у 'frequency' на цілі числа\n",
    "    df['frequency'] = df['frequency'].astype(int)\n",
    "\n",
    "    # Повторюємо рядки на основі значення у frequency\n",
    "    df = df.loc[df.index.repeat(df['frequency'])].reset_index(drop=True)\n",
    "\n",
    "    return df"
   ],
   "outputs": [],
   "execution_count": 73
  },
  {
   "metadata": {},
   "cell_type": "markdown",
   "source": "#### variables",
   "id": "12e5938ef30661ec"
  },
  {
   "metadata": {
    "ExecuteTime": {
     "end_time": "2025-05-10T08:34:15.745898Z",
     "start_time": "2025-05-10T08:34:15.742775Z"
    }
   },
   "cell_type": "code",
   "source": [
    "input_path = \"raw_salary_compile/combined_salary_9.csv\"\n",
    "output_folder = \"filtered_dataset\" "
   ],
   "id": "ecddd66369556c21",
   "outputs": [],
   "execution_count": 74
  },
  {
   "metadata": {},
   "cell_type": "markdown",
   "source": "#### main functions",
   "id": "cf9c067233359ba6"
  },
  {
   "metadata": {
    "ExecuteTime": {
     "end_time": "2025-05-10T08:34:16.062222Z",
     "start_time": "2025-05-10T08:34:15.747477Z"
    }
   },
   "cell_type": "code",
   "source": [
    "# Usage Example\n",
    "# Assuming `df` is your input DataFrame\n",
    "\n",
    "output_path = get_next_filename(\"filtered_dataset\", output_folder)\n",
    "df = pd.read_csv(input_path, low_memory=False)  # Load your dataset\n",
    "\n",
    "processed_df = process_dataset(df)  # Process the dataset\n",
    "processed_df.to_csv(output_path, index=False)"
   ],
   "id": "1f62c0dd26c10dd",
   "outputs": [],
   "execution_count": 75
  }
 ],
 "metadata": {
  "kernelspec": {
   "display_name": "Python 3",
   "language": "python",
   "name": "python3"
  },
  "language_info": {
   "codemirror_mode": {
    "name": "ipython",
    "version": 2
   },
   "file_extension": ".py",
   "mimetype": "text/x-python",
   "name": "python",
   "nbconvert_exporter": "python",
   "pygments_lexer": "ipython2",
   "version": "2.7.6"
  }
 },
 "nbformat": 4,
 "nbformat_minor": 5
}
