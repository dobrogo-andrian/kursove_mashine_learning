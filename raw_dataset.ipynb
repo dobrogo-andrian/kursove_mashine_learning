{
 "cells": [
  {
   "cell_type": "markdown",
   "id": "89bdd08aee932145",
   "metadata": {},
   "source": [
    "## Курсова машін льорнінінг"
   ]
  },
  {
   "cell_type": "markdown",
   "id": "3bbb6a73d5bceca",
   "metadata": {},
   "source": [
    "### Data loading"
   ]
  },
  {
   "cell_type": "markdown",
   "id": "d977c4c52efe05",
   "metadata": {},
   "source": [
    "#### imports"
   ]
  },
  {
   "cell_type": "code",
   "execution_count": 1,
   "id": "53b8b183f6a922c7",
   "metadata": {
    "ExecuteTime": {
     "end_time": "2025-05-13T12:39:35.853390Z",
     "start_time": "2025-05-13T12:39:35.849118Z"
    }
   },
   "outputs": [],
   "source": [
    "import re\n",
    "import csv\n",
    "import os\n",
    "import pandas as pd\n",
    "import pandasql as ps\n",
    "from helpers import get_next_filename \n"
   ]
  },
  {
   "cell_type": "markdown",
   "id": "929318c13dd08f20",
   "metadata": {},
   "source": [
    "#### functions"
   ]
  },
  {
   "cell_type": "code",
   "execution_count": 2,
   "id": "1658dfe9c7de9d30",
   "metadata": {
    "ExecuteTime": {
     "end_time": "2025-05-13T12:39:35.881901Z",
     "start_time": "2025-05-13T12:39:35.866349Z"
    }
   },
   "outputs": [],
   "source": [
    "def standardize_columns(df, column_mapping):\n",
    "    \"\"\"\n",
    "    Standardize column names based on a mapping dictionary.\n",
    "    :param df: DataFrame with raw data.\n",
    "    :param column_mapping: Dictionary where keys are possible column names and values are standardized names.\n",
    "    :return: DataFrame with standardized column names.\n",
    "    \"\"\"\n",
    "    standardized_columns = {}\n",
    "    for col in df.columns:\n",
    "        # Map column names using the dictionary, or keep the original name if not found\n",
    "        standardized_columns[col] = column_mapping.get(col, col)\n",
    "    \n",
    "    df.rename(columns=standardized_columns, inplace=True)\n",
    "    return df\n",
    "\n",
    "def detect_csv_format(file_path):\n",
    "    \"\"\"\n",
    "    Automatically detect the format of a CSV file (delimiter, quotechar, etc.).\n",
    "    :param file_path: Path to the CSV file.\n",
    "    :return: Dictionary with parameters for reading the file.\n",
    "    \"\"\"\n",
    "    try:\n",
    "        with open(file_path, 'r', encoding='utf-8') as f:\n",
    "            sample = f.read(1024)  # Read the first 1024 characters for analysis\n",
    "            sniffer = csv.Sniffer()\n",
    "            dialect = sniffer.sniff(sample)\n",
    "            return {\n",
    "                'delimiter': dialect.delimiter,\n",
    "                'quotechar': dialect.quotechar\n",
    "            }\n",
    "    except Exception as e:\n",
    "        print(f\"Failed to detect the format of the file {file_path}: {e}\")\n",
    "        # Return fallback delimiters in order of likelihood\n",
    "        return {'delimiter': ';', 'quotechar': '\"'}\n",
    "\n",
    "\n",
    "def process_salary_data(input_folder, output_file):\n",
    "    \"\"\"\n",
    "    Processes all salary files, standardizes columns, adds the period (half-year), and combines them into one dataset.\n",
    "    :param input_folder: Path to the folder with input files.\n",
    "    :param output_file: Path to the output CSV file.\n",
    "    \"\"\"\n",
    "    combined_data = []  # List to store processed data\n",
    "\n",
    "    # Column mapping for standardization\n",
    "    column_mapping = {\n",
    "        \"Зарплата / дохід в ІТ у $$$ за місяць, лише ставка після сплати податків\": \"salary\",\n",
    "        \"Зарплата\": \"salary\",\n",
    "        \"Salary\": \"salary\",\n",
    "        \"salary\": \"salary\",\n",
    "        \"Зарплата в месяц\": \"salary\",\n",
    "        \"Зарплата за місяць, net, після податків\": \"salary\",\n",
    "        \"Зарплата у $$$ за місяць, лише ставка після сплати податків\": \"salary\",\n",
    "        \"Чи отримуєте ви грошові бонуси до зарплати?\": \"bonuses flag\",\n",
    "        \"Вкажіть суму цього бонуса у $$$ після податків\": \"bonuses amount\",\n",
    "        \"Зарплата.в.месяц\": \"salary\",\n",
    "        \"Вкажіть суму цього бонуса у  після податків\": \"bonuses amount\",\n",
    "        \"Зарплата / дохід у $$$ за місяць, лише ставка ЧИСТИМИ - після сплати податків\": \"salary\",\n",
    "        \"Зарплата / дохід в IT у $$$ за місяць\": \"salary\",\n",
    "        \"\"\"Зарплата / дохід в ІТ у $$$ за місяць, лише ставка \n",
    "ЧИСТИМИ - після сплати податків\"\"\": \"salary\",\n",
    "        \"Зарплата / дохід у $$$ за місяць, лише ставка після сплати податків\" : \"salary\",\n",
    "        \"\"\"Зарплата / дохід у $$$ за місяць, лише ставка \n",
    "ЧИСТИМИ - після сплати податків\"\"\": \"salary\",\n",
    "    \"\"\"\\\"Зарплата / дохід у $$$ за місяць, лише ставка \n",
    "ЧИСТИМИ - після сплати податків\",Оберіть вашу основну посаду\"\"\": \"salary\",\n",
    "        \"\"\"Зарплата / дохід в IT у $$$ за місяць, лише ставка \n",
    "ЧИСТИМИ - після сплати податків\"\"\": \"salary\",\n",
    "        \n",
    "\n",
    "\n",
    "\n",
    "        \n",
    "        \"Должность\": \"position\",\n",
    "        \"Оберіть вашу основну посаду\": \"position\",\n",
    "        \"Оберіть вашу посаду\": \"position\",\n",
    "        \"Посада\": \"position\",\n",
    "        \"Position\": \"position\",\n",
    "        \"position\": \"position\",\n",
    "        \"Спеціалізація\": \"position\",\n",
    "        \n",
    "        \n",
    "        \"Ваш тайтл на цій посаді\": \"seniority\",\n",
    "        \"Оберіть ваш тайтл або роль у компанії\": \"seniority\",\n",
    "        \"Общий опыт работы\": \"general experience seniority\",\n",
    "        \"Опыт работы на текущем месте\": \"local experience seniority\",\n",
    "        \"Загальний стаж роботи за спеціальністю\": \"general experience seniority\",\n",
    "        \"Стаж на поточному місці роботи\": \"local experience seniority\",\n",
    "        \"Ваш тайтл\": \"seniority\",\n",
    "        \"exp\": \"general experience seniority\",\n",
    "        \"current_job_exp\": \"local experience seniority\",\n",
    "        \"experience\": \"general experience seniority\",\n",
    "        \n",
    "        \n",
    "        \"freq\": \"frequency\"\n",
    "    }\n",
    "\n",
    "    # Read all files in the input folder\n",
    "    input_files = [f for f in os.listdir(input_folder) if f.endswith('.csv')]\n",
    "    input_files = sorted(input_files, key=lambda x: int(re.search(r'\\d+', x).group()))  # Sort by year\n",
    "\n",
    "    for input_file in input_files:\n",
    "        # Determine year and month from the file name\n",
    "        match = re.search(r'(\\d{4})_(\\w+)_.*\\.csv', input_file)\n",
    "        if not match:\n",
    "            print(f\"Skipping file {input_file}: Could not determine year and month.\")\n",
    "            continue\n",
    "        \n",
    "        year, month = match.groups()\n",
    "        year = int(year)\n",
    "        \n",
    "        # Determine half-year period\n",
    "        if month.lower() in ['jan', 'feb', 'mar', 'apr', 'may', 'jun', 'june']:\n",
    "            half_year = f\"{year}_H1\"  # First half-year\n",
    "        else:\n",
    "            half_year = f\"{year}_H2\"  # Second half-year\n",
    "\n",
    "        # Read the file with automatic format detection\n",
    "        file_path = os.path.join(input_folder, input_file)\n",
    "        try:\n",
    "            if (half_year == \"2021_H2\" or half_year == \"2022_H2\" or half_year == \"2023_H1\"):\n",
    "                csv_format ={'delimiter': ';', 'quotechar': '\"'}\n",
    "            else: \n",
    "                csv_format = detect_csv_format(file_path)  # Detect the format of the file\n",
    "                \n",
    "            df = pd.read_csv(file_path, on_bad_lines='skip', **csv_format)\n",
    "            if (half_year == \"2021_H1\"):\n",
    "                df.rename(columns={\"Загальний стаж роботи за спеціальністю\": \"general_experience\"}, inplace=True)\n",
    "                \n",
    "            if (half_year == \"2022_H1\"):\n",
    "                # Видалення записів, де \"city\" = \"Всі міста\" або \"experience\" = \"Весь досвід\"\n",
    "                df = df[~((df[\"city\"] == \"Всі міста\") | (df[\"experience\"] == \"Весь досвід\"))]\n",
    "\n",
    "            # Remove empty rows\n",
    "            df.dropna(how='all', inplace=True)\n",
    "\n",
    "            # Standardize column names\n",
    "            df = standardize_columns(df, column_mapping)\n",
    "\n",
    "            # Add the half-year period column\n",
    "            df['period'] = half_year\n",
    "            print(f\"half year: {half_year} csv format: {csv_format}\")\n",
    "            # Append the processed DataFrame to the combined list\n",
    "            combined_data.append(df)\n",
    "        except Exception as e:\n",
    "            print(f\"Error reading file {input_file}: {e}\")\n",
    "            continue\n",
    "\n",
    "    # Combine all DataFrames into one\n",
    "    combined_df = pd.concat(combined_data, ignore_index=True)\n",
    "\n",
    "    # Select only the required columns\n",
    "    final_columns = ['period', 'position', \"seniority\", \"general experience seniority\",\n",
    "                     \"local experience seniority\", 'salary', \"bonuses flag\", \"bonuses amount\", \"frequency\"]\n",
    "    combined_df = combined_df[final_columns]\n",
    "\n",
    "    # Save the combined dataset to a file\n",
    "    combined_df.to_csv(output_file, index=False)\n",
    "    print(f\"Final dataset saved to: {output_file}\")\n"
   ]
  },
  {
   "cell_type": "markdown",
   "id": "3438a8c2e313ecf9",
   "metadata": {},
   "source": [
    "#### variables "
   ]
  },
  {
   "cell_type": "code",
   "execution_count": 3,
   "id": "d2cff21db76db249",
   "metadata": {
    "ExecuteTime": {
     "end_time": "2025-05-13T12:39:35.886927Z",
     "start_time": "2025-05-13T12:39:35.882882Z"
    }
   },
   "outputs": [],
   "source": [
    "input_folder = \"unprocessed_salary\"\n",
    "output_folder = \"raw_salary_compile\" "
   ]
  },
  {
   "cell_type": "markdown",
   "id": "db258fa06e25eaf",
   "metadata": {},
   "source": [
    "#### main script"
   ]
  },
  {
   "cell_type": "code",
   "execution_count": 4,
   "id": "90f4eed3c717ad7f",
   "metadata": {
    "ExecuteTime": {
     "end_time": "2025-05-13T12:39:37.907092Z",
     "start_time": "2025-05-13T12:39:35.895965Z"
    }
   },
   "outputs": [
    {
     "name": "stdout",
     "output_type": "stream",
     "text": [
      "Обробляємо файли: unprocessed_salary\\\n",
      "half year: 2015_H2 csv format: {'delimiter': ',', 'quotechar': '\"'}\n",
      "half year: 2015_H1 csv format: {'delimiter': ',', 'quotechar': '\"'}\n",
      "half year: 2016_H2 csv format: {'delimiter': ',', 'quotechar': '\"'}\n",
      "half year: 2016_H1 csv format: {'delimiter': ',', 'quotechar': '\"'}\n",
      "half year: 2017_H2 csv format: {'delimiter': ',', 'quotechar': '\"'}\n",
      "half year: 2017_H1 csv format: {'delimiter': ',', 'quotechar': '\"'}\n",
      "half year: 2018_H2 csv format: {'delimiter': ',', 'quotechar': '\"'}\n",
      "half year: 2018_H1 csv format: {'delimiter': ',', 'quotechar': '\"'}\n",
      "half year: 2019_H2 csv format: {'delimiter': ',', 'quotechar': '\"'}\n",
      "half year: 2019_H1 csv format: {'delimiter': ',', 'quotechar': '\"'}\n",
      "half year: 2020_H2 csv format: {'delimiter': ',', 'quotechar': '\"'}\n",
      "half year: 2020_H1 csv format: {'delimiter': ',', 'quotechar': '\"'}\n",
      "half year: 2021_H2 csv format: {'delimiter': ';', 'quotechar': '\"'}\n",
      "half year: 2021_H1 csv format: {'delimiter': ',', 'quotechar': '\"'}\n",
      "half year: 2022_H2 csv format: {'delimiter': ';', 'quotechar': '\"'}\n",
      "half year: 2022_H1 csv format: {'delimiter': ',', 'quotechar': '\"'}\n",
      "half year: 2023_H1 csv format: {'delimiter': ';', 'quotechar': '\"'}\n",
      "half year: 2023_H2 csv format: {'delimiter': ',', 'quotechar': '\"'}\n",
      "half year: 2024_H2 csv format: {'delimiter': ',', 'quotechar': '\"'}\n",
      "half year: 2024_H1 csv format: {'delimiter': ',', 'quotechar': '\"'}\n",
      "Final dataset saved to: raw_salary_compile/combined_salary_2.csv\n",
      "Результат збережено в: raw_salary_compile/combined_salary_2.csv\n"
     ]
    }
   ],
   "source": [
    "output_path = get_next_filename(\"combined_salary\", output_folder)\n",
    "\n",
    "print(f\"Обробляємо файли: {input_folder}\\\\\")\n",
    "process_salary_data(input_folder, output_path)\n",
    "print(f\"Результат збережено в: {output_path}\")"
   ]
  },
  {
   "cell_type": "code",
   "execution_count": 5,
   "id": "8ae2ea5d5c0075c6",
   "metadata": {
    "ExecuteTime": {
     "end_time": "2025-05-13T12:39:39.579156Z",
     "start_time": "2025-05-13T12:39:37.907603Z"
    }
   },
   "outputs": [
    {
     "name": "stdout",
     "output_type": "stream",
     "text": [
      "   count(*)\n",
      "0       116\n"
     ]
    }
   ],
   "source": [
    "\n",
    "\n",
    "data = pd.read_csv(output_path, low_memory=False)\n",
    "query = \"\"\"\n",
    "    SELECT count(*)\n",
    "    FROM data\n",
    "    where salary is NULL\n",
    "    limit 100\n",
    "\"\"\"\n",
    "\n",
    "# Виконання запиту\n",
    "unique_bonuses_flag = ps.sqldf(query, locals())\n",
    "\n",
    "# Виведення результату\n",
    "print(unique_bonuses_flag)"
   ]
  },
  {
   "cell_type": "code",
   "execution_count": 6,
   "id": "470e1669e8764df3",
   "metadata": {
    "ExecuteTime": {
     "end_time": "2025-05-13T12:39:39.649963Z",
     "start_time": "2025-05-13T12:39:39.580685Z"
    }
   },
   "outputs": [
    {
     "ename": "PandaSQLException",
     "evalue": "(sqlite3.OperationalError) near \"FROM\": syntax error\n[SQL: \n    SELECT distinct \n    FROM data\n    where salary is NULL\n    limit 100\n]\n(Background on this error at: https://sqlalche.me/e/20/e3q8)",
     "output_type": "error",
     "traceback": [
      "\u001b[31m---------------------------------------------------------------------------\u001b[39m",
      "\u001b[31mOperationalError\u001b[39m                          Traceback (most recent call last)",
      "\u001b[36mFile \u001b[39m\u001b[32m~/Desktop/Машине_навчання_КР/kursove_mashine_learning/myenv/lib/python3.11/site-packages/sqlalchemy/engine/base.py:1964\u001b[39m, in \u001b[36mConnection._exec_single_context\u001b[39m\u001b[34m(self, dialect, context, statement, parameters)\u001b[39m\n\u001b[32m   1963\u001b[39m     \u001b[38;5;28;01mif\u001b[39;00m \u001b[38;5;129;01mnot\u001b[39;00m evt_handled:\n\u001b[32m-> \u001b[39m\u001b[32m1964\u001b[39m         \u001b[38;5;28;43mself\u001b[39;49m\u001b[43m.\u001b[49m\u001b[43mdialect\u001b[49m\u001b[43m.\u001b[49m\u001b[43mdo_execute\u001b[49m\u001b[43m(\u001b[49m\n\u001b[32m   1965\u001b[39m \u001b[43m            \u001b[49m\u001b[43mcursor\u001b[49m\u001b[43m,\u001b[49m\u001b[43m \u001b[49m\u001b[43mstr_statement\u001b[49m\u001b[43m,\u001b[49m\u001b[43m \u001b[49m\u001b[43meffective_parameters\u001b[49m\u001b[43m,\u001b[49m\u001b[43m \u001b[49m\u001b[43mcontext\u001b[49m\n\u001b[32m   1966\u001b[39m \u001b[43m        \u001b[49m\u001b[43m)\u001b[49m\n\u001b[32m   1968\u001b[39m \u001b[38;5;28;01mif\u001b[39;00m \u001b[38;5;28mself\u001b[39m._has_events \u001b[38;5;129;01mor\u001b[39;00m \u001b[38;5;28mself\u001b[39m.engine._has_events:\n",
      "\u001b[36mFile \u001b[39m\u001b[32m~/Desktop/Машине_навчання_КР/kursove_mashine_learning/myenv/lib/python3.11/site-packages/sqlalchemy/engine/default.py:945\u001b[39m, in \u001b[36mDefaultDialect.do_execute\u001b[39m\u001b[34m(self, cursor, statement, parameters, context)\u001b[39m\n\u001b[32m    944\u001b[39m \u001b[38;5;28;01mdef\u001b[39;00m\u001b[38;5;250m \u001b[39m\u001b[34mdo_execute\u001b[39m(\u001b[38;5;28mself\u001b[39m, cursor, statement, parameters, context=\u001b[38;5;28;01mNone\u001b[39;00m):\n\u001b[32m--> \u001b[39m\u001b[32m945\u001b[39m     cursor.execute(statement, parameters)\n",
      "\u001b[31mOperationalError\u001b[39m: near \"FROM\": syntax error",
      "\nThe above exception was the direct cause of the following exception:\n",
      "\u001b[31mOperationalError\u001b[39m                          Traceback (most recent call last)",
      "\u001b[36mFile \u001b[39m\u001b[32m~/Desktop/Машине_навчання_КР/kursove_mashine_learning/myenv/lib/python3.11/site-packages/pandasql/sqldf.py:61\u001b[39m, in \u001b[36mPandaSQL.__call__\u001b[39m\u001b[34m(self, query, env)\u001b[39m\n\u001b[32m     60\u001b[39m \u001b[38;5;28;01mtry\u001b[39;00m:\n\u001b[32m---> \u001b[39m\u001b[32m61\u001b[39m     result = \u001b[43mread_sql\u001b[49m\u001b[43m(\u001b[49m\u001b[43mquery\u001b[49m\u001b[43m,\u001b[49m\u001b[43m \u001b[49m\u001b[43mconn\u001b[49m\u001b[43m)\u001b[49m\n\u001b[32m     62\u001b[39m \u001b[38;5;28;01mexcept\u001b[39;00m DatabaseError \u001b[38;5;28;01mas\u001b[39;00m ex:\n",
      "\u001b[36mFile \u001b[39m\u001b[32m~/Desktop/Машине_навчання_КР/kursove_mashine_learning/myenv/lib/python3.11/site-packages/pandas/io/sql.py:734\u001b[39m, in \u001b[36mread_sql\u001b[39m\u001b[34m(sql, con, index_col, coerce_float, params, parse_dates, columns, chunksize, dtype_backend, dtype)\u001b[39m\n\u001b[32m    733\u001b[39m \u001b[38;5;28;01melse\u001b[39;00m:\n\u001b[32m--> \u001b[39m\u001b[32m734\u001b[39m     \u001b[38;5;28;01mreturn\u001b[39;00m \u001b[43mpandas_sql\u001b[49m\u001b[43m.\u001b[49m\u001b[43mread_query\u001b[49m\u001b[43m(\u001b[49m\n\u001b[32m    735\u001b[39m \u001b[43m        \u001b[49m\u001b[43msql\u001b[49m\u001b[43m,\u001b[49m\n\u001b[32m    736\u001b[39m \u001b[43m        \u001b[49m\u001b[43mindex_col\u001b[49m\u001b[43m=\u001b[49m\u001b[43mindex_col\u001b[49m\u001b[43m,\u001b[49m\n\u001b[32m    737\u001b[39m \u001b[43m        \u001b[49m\u001b[43mparams\u001b[49m\u001b[43m=\u001b[49m\u001b[43mparams\u001b[49m\u001b[43m,\u001b[49m\n\u001b[32m    738\u001b[39m \u001b[43m        \u001b[49m\u001b[43mcoerce_float\u001b[49m\u001b[43m=\u001b[49m\u001b[43mcoerce_float\u001b[49m\u001b[43m,\u001b[49m\n\u001b[32m    739\u001b[39m \u001b[43m        \u001b[49m\u001b[43mparse_dates\u001b[49m\u001b[43m=\u001b[49m\u001b[43mparse_dates\u001b[49m\u001b[43m,\u001b[49m\n\u001b[32m    740\u001b[39m \u001b[43m        \u001b[49m\u001b[43mchunksize\u001b[49m\u001b[43m=\u001b[49m\u001b[43mchunksize\u001b[49m\u001b[43m,\u001b[49m\n\u001b[32m    741\u001b[39m \u001b[43m        \u001b[49m\u001b[43mdtype_backend\u001b[49m\u001b[43m=\u001b[49m\u001b[43mdtype_backend\u001b[49m\u001b[43m,\u001b[49m\n\u001b[32m    742\u001b[39m \u001b[43m        \u001b[49m\u001b[43mdtype\u001b[49m\u001b[43m=\u001b[49m\u001b[43mdtype\u001b[49m\u001b[43m,\u001b[49m\n\u001b[32m    743\u001b[39m \u001b[43m    \u001b[49m\u001b[43m)\u001b[49m\n",
      "\u001b[36mFile \u001b[39m\u001b[32m~/Desktop/Машине_навчання_КР/kursove_mashine_learning/myenv/lib/python3.11/site-packages/pandas/io/sql.py:1836\u001b[39m, in \u001b[36mSQLDatabase.read_query\u001b[39m\u001b[34m(self, sql, index_col, coerce_float, parse_dates, params, chunksize, dtype, dtype_backend)\u001b[39m\n\u001b[32m   1790\u001b[39m \u001b[38;5;250m\u001b[39m\u001b[33;03m\"\"\"\u001b[39;00m\n\u001b[32m   1791\u001b[39m \u001b[33;03mRead SQL query into a DataFrame.\u001b[39;00m\n\u001b[32m   1792\u001b[39m \n\u001b[32m   (...)\u001b[39m\u001b[32m   1834\u001b[39m \n\u001b[32m   1835\u001b[39m \u001b[33;03m\"\"\"\u001b[39;00m\n\u001b[32m-> \u001b[39m\u001b[32m1836\u001b[39m result = \u001b[38;5;28;43mself\u001b[39;49m\u001b[43m.\u001b[49m\u001b[43mexecute\u001b[49m\u001b[43m(\u001b[49m\u001b[43msql\u001b[49m\u001b[43m,\u001b[49m\u001b[43m \u001b[49m\u001b[43mparams\u001b[49m\u001b[43m)\u001b[49m\n\u001b[32m   1837\u001b[39m columns = result.keys()\n",
      "\u001b[36mFile \u001b[39m\u001b[32m~/Desktop/Машине_навчання_КР/kursove_mashine_learning/myenv/lib/python3.11/site-packages/pandas/io/sql.py:1659\u001b[39m, in \u001b[36mSQLDatabase.execute\u001b[39m\u001b[34m(self, sql, params)\u001b[39m\n\u001b[32m   1658\u001b[39m \u001b[38;5;28;01mif\u001b[39;00m \u001b[38;5;28misinstance\u001b[39m(sql, \u001b[38;5;28mstr\u001b[39m):\n\u001b[32m-> \u001b[39m\u001b[32m1659\u001b[39m     \u001b[38;5;28;01mreturn\u001b[39;00m \u001b[38;5;28;43mself\u001b[39;49m\u001b[43m.\u001b[49m\u001b[43mcon\u001b[49m\u001b[43m.\u001b[49m\u001b[43mexec_driver_sql\u001b[49m\u001b[43m(\u001b[49m\u001b[43msql\u001b[49m\u001b[43m,\u001b[49m\u001b[43m \u001b[49m\u001b[43m*\u001b[49m\u001b[43margs\u001b[49m\u001b[43m)\u001b[49m\n\u001b[32m   1660\u001b[39m \u001b[38;5;28;01mreturn\u001b[39;00m \u001b[38;5;28mself\u001b[39m.con.execute(sql, *args)\n",
      "\u001b[36mFile \u001b[39m\u001b[32m~/Desktop/Машине_навчання_КР/kursove_mashine_learning/myenv/lib/python3.11/site-packages/sqlalchemy/engine/base.py:1776\u001b[39m, in \u001b[36mConnection.exec_driver_sql\u001b[39m\u001b[34m(self, statement, parameters, execution_options)\u001b[39m\n\u001b[32m   1775\u001b[39m dialect = \u001b[38;5;28mself\u001b[39m.dialect\n\u001b[32m-> \u001b[39m\u001b[32m1776\u001b[39m ret = \u001b[38;5;28;43mself\u001b[39;49m\u001b[43m.\u001b[49m\u001b[43m_execute_context\u001b[49m\u001b[43m(\u001b[49m\n\u001b[32m   1777\u001b[39m \u001b[43m    \u001b[49m\u001b[43mdialect\u001b[49m\u001b[43m,\u001b[49m\n\u001b[32m   1778\u001b[39m \u001b[43m    \u001b[49m\u001b[43mdialect\u001b[49m\u001b[43m.\u001b[49m\u001b[43mexecution_ctx_cls\u001b[49m\u001b[43m.\u001b[49m\u001b[43m_init_statement\u001b[49m\u001b[43m,\u001b[49m\n\u001b[32m   1779\u001b[39m \u001b[43m    \u001b[49m\u001b[43mstatement\u001b[49m\u001b[43m,\u001b[49m\n\u001b[32m   1780\u001b[39m \u001b[43m    \u001b[49m\u001b[38;5;28;43;01mNone\u001b[39;49;00m\u001b[43m,\u001b[49m\n\u001b[32m   1781\u001b[39m \u001b[43m    \u001b[49m\u001b[43mexecution_options\u001b[49m\u001b[43m,\u001b[49m\n\u001b[32m   1782\u001b[39m \u001b[43m    \u001b[49m\u001b[43mstatement\u001b[49m\u001b[43m,\u001b[49m\n\u001b[32m   1783\u001b[39m \u001b[43m    \u001b[49m\u001b[43mdistilled_parameters\u001b[49m\u001b[43m,\u001b[49m\n\u001b[32m   1784\u001b[39m \u001b[43m\u001b[49m\u001b[43m)\u001b[49m\n\u001b[32m   1786\u001b[39m \u001b[38;5;28;01mreturn\u001b[39;00m ret\n",
      "\u001b[36mFile \u001b[39m\u001b[32m~/Desktop/Машине_навчання_КР/kursove_mashine_learning/myenv/lib/python3.11/site-packages/sqlalchemy/engine/base.py:1843\u001b[39m, in \u001b[36mConnection._execute_context\u001b[39m\u001b[34m(self, dialect, constructor, statement, parameters, execution_options, *args, **kw)\u001b[39m\n\u001b[32m   1842\u001b[39m \u001b[38;5;28;01melse\u001b[39;00m:\n\u001b[32m-> \u001b[39m\u001b[32m1843\u001b[39m     \u001b[38;5;28;01mreturn\u001b[39;00m \u001b[38;5;28;43mself\u001b[39;49m\u001b[43m.\u001b[49m\u001b[43m_exec_single_context\u001b[49m\u001b[43m(\u001b[49m\n\u001b[32m   1844\u001b[39m \u001b[43m        \u001b[49m\u001b[43mdialect\u001b[49m\u001b[43m,\u001b[49m\u001b[43m \u001b[49m\u001b[43mcontext\u001b[49m\u001b[43m,\u001b[49m\u001b[43m \u001b[49m\u001b[43mstatement\u001b[49m\u001b[43m,\u001b[49m\u001b[43m \u001b[49m\u001b[43mparameters\u001b[49m\n\u001b[32m   1845\u001b[39m \u001b[43m    \u001b[49m\u001b[43m)\u001b[49m\n",
      "\u001b[36mFile \u001b[39m\u001b[32m~/Desktop/Машине_навчання_КР/kursove_mashine_learning/myenv/lib/python3.11/site-packages/sqlalchemy/engine/base.py:1983\u001b[39m, in \u001b[36mConnection._exec_single_context\u001b[39m\u001b[34m(self, dialect, context, statement, parameters)\u001b[39m\n\u001b[32m   1982\u001b[39m \u001b[38;5;28;01mexcept\u001b[39;00m \u001b[38;5;167;01mBaseException\u001b[39;00m \u001b[38;5;28;01mas\u001b[39;00m e:\n\u001b[32m-> \u001b[39m\u001b[32m1983\u001b[39m     \u001b[38;5;28;43mself\u001b[39;49m\u001b[43m.\u001b[49m\u001b[43m_handle_dbapi_exception\u001b[49m\u001b[43m(\u001b[49m\n\u001b[32m   1984\u001b[39m \u001b[43m        \u001b[49m\u001b[43me\u001b[49m\u001b[43m,\u001b[49m\u001b[43m \u001b[49m\u001b[43mstr_statement\u001b[49m\u001b[43m,\u001b[49m\u001b[43m \u001b[49m\u001b[43meffective_parameters\u001b[49m\u001b[43m,\u001b[49m\u001b[43m \u001b[49m\u001b[43mcursor\u001b[49m\u001b[43m,\u001b[49m\u001b[43m \u001b[49m\u001b[43mcontext\u001b[49m\n\u001b[32m   1985\u001b[39m \u001b[43m    \u001b[49m\u001b[43m)\u001b[49m\n\u001b[32m   1987\u001b[39m \u001b[38;5;28;01mreturn\u001b[39;00m result\n",
      "\u001b[36mFile \u001b[39m\u001b[32m~/Desktop/Машине_навчання_КР/kursove_mashine_learning/myenv/lib/python3.11/site-packages/sqlalchemy/engine/base.py:2352\u001b[39m, in \u001b[36mConnection._handle_dbapi_exception\u001b[39m\u001b[34m(self, e, statement, parameters, cursor, context, is_sub_exec)\u001b[39m\n\u001b[32m   2351\u001b[39m     \u001b[38;5;28;01massert\u001b[39;00m sqlalchemy_exception \u001b[38;5;129;01mis\u001b[39;00m \u001b[38;5;129;01mnot\u001b[39;00m \u001b[38;5;28;01mNone\u001b[39;00m\n\u001b[32m-> \u001b[39m\u001b[32m2352\u001b[39m     \u001b[38;5;28;01mraise\u001b[39;00m sqlalchemy_exception.with_traceback(exc_info[\u001b[32m2\u001b[39m]) \u001b[38;5;28;01mfrom\u001b[39;00m\u001b[38;5;250m \u001b[39m\u001b[34;01me\u001b[39;00m\n\u001b[32m   2353\u001b[39m \u001b[38;5;28;01melse\u001b[39;00m:\n",
      "\u001b[36mFile \u001b[39m\u001b[32m~/Desktop/Машине_навчання_КР/kursove_mashine_learning/myenv/lib/python3.11/site-packages/sqlalchemy/engine/base.py:1964\u001b[39m, in \u001b[36mConnection._exec_single_context\u001b[39m\u001b[34m(self, dialect, context, statement, parameters)\u001b[39m\n\u001b[32m   1963\u001b[39m     \u001b[38;5;28;01mif\u001b[39;00m \u001b[38;5;129;01mnot\u001b[39;00m evt_handled:\n\u001b[32m-> \u001b[39m\u001b[32m1964\u001b[39m         \u001b[38;5;28;43mself\u001b[39;49m\u001b[43m.\u001b[49m\u001b[43mdialect\u001b[49m\u001b[43m.\u001b[49m\u001b[43mdo_execute\u001b[49m\u001b[43m(\u001b[49m\n\u001b[32m   1965\u001b[39m \u001b[43m            \u001b[49m\u001b[43mcursor\u001b[49m\u001b[43m,\u001b[49m\u001b[43m \u001b[49m\u001b[43mstr_statement\u001b[49m\u001b[43m,\u001b[49m\u001b[43m \u001b[49m\u001b[43meffective_parameters\u001b[49m\u001b[43m,\u001b[49m\u001b[43m \u001b[49m\u001b[43mcontext\u001b[49m\n\u001b[32m   1966\u001b[39m \u001b[43m        \u001b[49m\u001b[43m)\u001b[49m\n\u001b[32m   1968\u001b[39m \u001b[38;5;28;01mif\u001b[39;00m \u001b[38;5;28mself\u001b[39m._has_events \u001b[38;5;129;01mor\u001b[39;00m \u001b[38;5;28mself\u001b[39m.engine._has_events:\n",
      "\u001b[36mFile \u001b[39m\u001b[32m~/Desktop/Машине_навчання_КР/kursove_mashine_learning/myenv/lib/python3.11/site-packages/sqlalchemy/engine/default.py:945\u001b[39m, in \u001b[36mDefaultDialect.do_execute\u001b[39m\u001b[34m(self, cursor, statement, parameters, context)\u001b[39m\n\u001b[32m    944\u001b[39m \u001b[38;5;28;01mdef\u001b[39;00m\u001b[38;5;250m \u001b[39m\u001b[34mdo_execute\u001b[39m(\u001b[38;5;28mself\u001b[39m, cursor, statement, parameters, context=\u001b[38;5;28;01mNone\u001b[39;00m):\n\u001b[32m--> \u001b[39m\u001b[32m945\u001b[39m     cursor.execute(statement, parameters)\n",
      "\u001b[31mOperationalError\u001b[39m: (sqlite3.OperationalError) near \"FROM\": syntax error\n[SQL: \n    SELECT distinct \n    FROM data\n    where salary is NULL\n    limit 100\n]\n(Background on this error at: https://sqlalche.me/e/20/e3q8)",
      "\nDuring handling of the above exception, another exception occurred:\n",
      "\u001b[31mPandaSQLException\u001b[39m                         Traceback (most recent call last)",
      "\u001b[36mCell\u001b[39m\u001b[36m \u001b[39m\u001b[32mIn[6]\u001b[39m\u001b[32m, line 9\u001b[39m\n\u001b[32m      1\u001b[39m query = \u001b[33m\"\"\"\u001b[39m\n\u001b[32m      2\u001b[39m \u001b[33m    SELECT distinct \u001b[39m\n\u001b[32m      3\u001b[39m \u001b[33m    FROM data\u001b[39m\n\u001b[32m      4\u001b[39m \u001b[33m    where salary is NULL\u001b[39m\n\u001b[32m      5\u001b[39m \u001b[33m    limit 100\u001b[39m\n\u001b[32m      6\u001b[39m \u001b[33m\"\"\"\u001b[39m\n\u001b[32m      8\u001b[39m \u001b[38;5;66;03m# Виконання запиту\u001b[39;00m\n\u001b[32m----> \u001b[39m\u001b[32m9\u001b[39m unique_bonuses_flag = \u001b[43mps\u001b[49m\u001b[43m.\u001b[49m\u001b[43msqldf\u001b[49m\u001b[43m(\u001b[49m\u001b[43mquery\u001b[49m\u001b[43m,\u001b[49m\u001b[43m \u001b[49m\u001b[38;5;28;43mlocals\u001b[39;49m\u001b[43m(\u001b[49m\u001b[43m)\u001b[49m\u001b[43m)\u001b[49m\n\u001b[32m     11\u001b[39m \u001b[38;5;66;03m# Виведення результату\u001b[39;00m\n\u001b[32m     12\u001b[39m \u001b[38;5;28mprint\u001b[39m(unique_bonuses_flag)\n",
      "\u001b[36mFile \u001b[39m\u001b[32m~/Desktop/Машине_навчання_КР/kursove_mashine_learning/myenv/lib/python3.11/site-packages/pandasql/sqldf.py:156\u001b[39m, in \u001b[36msqldf\u001b[39m\u001b[34m(query, env, db_uri)\u001b[39m\n\u001b[32m    124\u001b[39m \u001b[38;5;28;01mdef\u001b[39;00m\u001b[38;5;250m \u001b[39m\u001b[34msqldf\u001b[39m(query, env=\u001b[38;5;28;01mNone\u001b[39;00m, db_uri=\u001b[33m'\u001b[39m\u001b[33msqlite:///:memory:\u001b[39m\u001b[33m'\u001b[39m):\n\u001b[32m    125\u001b[39m \u001b[38;5;250m    \u001b[39m\u001b[33;03m\"\"\"\u001b[39;00m\n\u001b[32m    126\u001b[39m \u001b[33;03m    Query pandas data frames using sql syntax\u001b[39;00m\n\u001b[32m    127\u001b[39m \u001b[33;03m    This function is meant for backward compatibility only. New users are encouraged to use the PandaSQL class.\u001b[39;00m\n\u001b[32m   (...)\u001b[39m\u001b[32m    154\u001b[39m \u001b[33;03m    >>> sqldf(\"select avg(x) from df;\", locals())\u001b[39;00m\n\u001b[32m    155\u001b[39m \u001b[33;03m    \"\"\"\u001b[39;00m\n\u001b[32m--> \u001b[39m\u001b[32m156\u001b[39m     \u001b[38;5;28;01mreturn\u001b[39;00m \u001b[43mPandaSQL\u001b[49m\u001b[43m(\u001b[49m\u001b[43mdb_uri\u001b[49m\u001b[43m)\u001b[49m\u001b[43m(\u001b[49m\u001b[43mquery\u001b[49m\u001b[43m,\u001b[49m\u001b[43m \u001b[49m\u001b[43menv\u001b[49m\u001b[43m)\u001b[49m\n",
      "\u001b[36mFile \u001b[39m\u001b[32m~/Desktop/Машине_навчання_КР/kursove_mashine_learning/myenv/lib/python3.11/site-packages/pandasql/sqldf.py:63\u001b[39m, in \u001b[36mPandaSQL.__call__\u001b[39m\u001b[34m(self, query, env)\u001b[39m\n\u001b[32m     61\u001b[39m     result = read_sql(query, conn)\n\u001b[32m     62\u001b[39m \u001b[38;5;28;01mexcept\u001b[39;00m DatabaseError \u001b[38;5;28;01mas\u001b[39;00m ex:\n\u001b[32m---> \u001b[39m\u001b[32m63\u001b[39m     \u001b[38;5;28;01mraise\u001b[39;00m PandaSQLException(ex)\n\u001b[32m     64\u001b[39m \u001b[38;5;28;01mexcept\u001b[39;00m ResourceClosedError:\n\u001b[32m     65\u001b[39m     \u001b[38;5;66;03m# query returns nothing\u001b[39;00m\n\u001b[32m     66\u001b[39m     result = \u001b[38;5;28;01mNone\u001b[39;00m\n",
      "\u001b[31mPandaSQLException\u001b[39m: (sqlite3.OperationalError) near \"FROM\": syntax error\n[SQL: \n    SELECT distinct \n    FROM data\n    where salary is NULL\n    limit 100\n]\n(Background on this error at: https://sqlalche.me/e/20/e3q8)"
     ]
    }
   ],
   "source": [
    "\n",
    "query = \"\"\"\n",
    "    SELECT distinct \n",
    "    FROM data\n",
    "    where salary is NULL\n",
    "    limit 100\n",
    "\"\"\"\n",
    "\n",
    "# Виконання запиту\n",
    "unique_bonuses_flag = ps.sqldf(query, locals())\n",
    "\n",
    "# Виведення результату\n",
    "print(unique_bonuses_flag)"
   ]
  }
 ],
 "metadata": {
  "kernelspec": {
   "display_name": "myenv",
   "language": "python",
   "name": "python3"
  },
  "language_info": {
   "codemirror_mode": {
    "name": "ipython",
    "version": 3
   },
   "file_extension": ".py",
   "mimetype": "text/x-python",
   "name": "python",
   "nbconvert_exporter": "python",
   "pygments_lexer": "ipython3",
   "version": "3.11.2"
  }
 },
 "nbformat": 4,
 "nbformat_minor": 5
}
