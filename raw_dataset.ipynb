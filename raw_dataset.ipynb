{
 "cells": [
  {
   "metadata": {},
   "cell_type": "markdown",
   "source": "## Курсова машін льорнінінг",
   "id": "89bdd08aee932145"
  },
  {
   "metadata": {},
   "cell_type": "markdown",
   "source": "### Data loading",
   "id": "3bbb6a73d5bceca"
  },
  {
   "metadata": {},
   "cell_type": "markdown",
   "source": "#### imports",
   "id": "d977c4c52efe05"
  },
  {
   "metadata": {
    "ExecuteTime": {
     "end_time": "2025-05-10T08:34:08.417037Z",
     "start_time": "2025-05-10T08:34:08.413888Z"
    }
   },
   "cell_type": "code",
   "source": [
    "import pandas as pd\n",
    "import re\n",
    "import os\n",
    "import pandasql as ps"
   ],
   "id": "53b8b183f6a922c7",
   "outputs": [],
   "execution_count": 26
  },
  {
   "metadata": {},
   "cell_type": "markdown",
   "source": "#### functions",
   "id": "929318c13dd08f20"
  },
  {
   "metadata": {
    "ExecuteTime": {
     "end_time": "2025-05-10T08:34:08.476803Z",
     "start_time": "2025-05-10T08:34:08.459240Z"
    }
   },
   "cell_type": "code",
   "source": [
    "import csv\n",
    "\n",
    "\n",
    "def standardize_columns(df, column_mapping):\n",
    "    \"\"\"\n",
    "    Standardize column names based on a mapping dictionary.\n",
    "    :param df: DataFrame with raw data.\n",
    "    :param column_mapping: Dictionary where keys are possible column names and values are standardized names.\n",
    "    :return: DataFrame with standardized column names.\n",
    "    \"\"\"\n",
    "    standardized_columns = {}\n",
    "    for col in df.columns:\n",
    "        # Map column names using the dictionary, or keep the original name if not found\n",
    "        standardized_columns[col] = column_mapping.get(col, col)\n",
    "    \n",
    "    df.rename(columns=standardized_columns, inplace=True)\n",
    "    return df\n",
    "\n",
    "def detect_csv_format(file_path):\n",
    "    \"\"\"\n",
    "    Automatically detect the format of a CSV file (delimiter, quotechar, etc.).\n",
    "    :param file_path: Path to the CSV file.\n",
    "    :return: Dictionary with parameters for reading the file.\n",
    "    \"\"\"\n",
    "    try:\n",
    "        with open(file_path, 'r', encoding='utf-8') as f:\n",
    "            sample = f.read(1024)  # Read the first 1024 characters for analysis\n",
    "            sniffer = csv.Sniffer()\n",
    "            dialect = sniffer.sniff(sample)\n",
    "            return {\n",
    "                'delimiter': dialect.delimiter,\n",
    "                'quotechar': dialect.quotechar\n",
    "            }\n",
    "    except Exception as e:\n",
    "        print(f\"Failed to detect the format of the file {file_path}: {e}\")\n",
    "        # Return fallback delimiters in order of likelihood\n",
    "        return {'delimiter': ';', 'quotechar': '\"'}\n",
    "\n",
    "def process_salary_data(input_folder, output_file):\n",
    "    \"\"\"\n",
    "    Processes all salary files, standardizes columns, adds the period (half-year), and combines them into one dataset.\n",
    "    :param input_folder: Path to the folder with input files.\n",
    "    :param output_file: Path to the output CSV file.\n",
    "    \"\"\"\n",
    "    combined_data = []  # List to store processed data\n",
    "\n",
    "    # Column mapping for standardization\n",
    "    column_mapping = {\n",
    "        \"Зарплата / дохід в ІТ у $$$ за місяць, лише ставка після сплати податків\": \"salary\",\n",
    "        \"Зарплата\": \"salary\",\n",
    "        \"Salary\": \"salary\",\n",
    "        \"salary\": \"salary\",\n",
    "        \"Зарплата в месяц\": \"salary\",\n",
    "        \"Зарплата за місяць, net, після податків\": \"salary\",\n",
    "        \"Зарплата у $$$ за місяць, лише ставка після сплати податків\": \"salary\",\n",
    "        \"Чи отримуєте ви грошові бонуси до зарплати?\": \"bonuses flag\",\n",
    "        \"Вкажіть суму цього бонуса у $$$ після податків\": \"bonuses amount\",\n",
    "        \"Зарплата.в.месяц\": \"salary\",\n",
    "        \"Вкажіть суму цього бонуса у  після податків\": \"bonuses amount\",\n",
    "        \"Зарплата / дохід у $$$ за місяць, лише ставка ЧИСТИМИ - після сплати податків\": \"salary\",\n",
    "        \"Зарплата / дохід в IT у $$$ за місяць\": \"salary\",\n",
    "        \"\"\"Зарплата / дохід в ІТ у $$$ за місяць, лише ставка \n",
    "ЧИСТИМИ - після сплати податків\"\"\": \"salary\",\n",
    "        \"Зарплата / дохід у $$$ за місяць, лише ставка після сплати податків\" : \"salary\",\n",
    "        \"\"\"Зарплата / дохід у $$$ за місяць, лише ставка \n",
    "ЧИСТИМИ - після сплати податків\"\"\": \"salary\",\n",
    "    \"\"\"\\\"Зарплата / дохід у $$$ за місяць, лише ставка \n",
    "ЧИСТИМИ - після сплати податків\",Оберіть вашу основну посаду\"\"\": \"salary\",\n",
    "        \"\"\"Зарплата / дохід в IT у $$$ за місяць, лише ставка \n",
    "ЧИСТИМИ - після сплати податків\"\"\": \"salary\",\n",
    "        \n",
    "\n",
    "\n",
    "\n",
    "        \n",
    "        \"Должность\": \"position\",\n",
    "        \"Оберіть вашу основну посаду\": \"position\",\n",
    "        \"Оберіть вашу посаду\": \"position\",\n",
    "        \"Посада\": \"position\",\n",
    "        \"Position\": \"position\",\n",
    "        \"position\": \"position\",\n",
    "        \"Спеціалізація\": \"position\",\n",
    "        \n",
    "        \n",
    "        \"Ваш тайтл на цій посаді\": \"seniority\",\n",
    "        \"Оберіть ваш тайтл або роль у компанії\": \"seniority\",\n",
    "        \"Общий опыт работы\": \"general experience seniority\",\n",
    "        \"Опыт работы на текущем месте\": \"local experience seniority\",\n",
    "        \"Загальний стаж роботи за спеціальністю\": \"general experience seniority\",\n",
    "        \"Стаж на поточному місці роботи\": \"local experience seniority\",\n",
    "        \"Ваш тайтл\": \"seniority\",\n",
    "        \"exp\": \"general experience seniority\",\n",
    "        \"current_job_exp\": \"local experience seniority\",\n",
    "        \"experience\": \"local experience seniority\",\n",
    "        \"User-Agent\": \"final salary\",\n",
    "        \"Еще студент\": \"final seniority\",\n",
    "        \n",
    "        \n",
    "        \"freq\": \"frequency\"\n",
    "    }\n",
    "\n",
    "    # Read all files in the input folder\n",
    "    input_files = [f for f in os.listdir(input_folder) if f.endswith('.csv')]\n",
    "    input_files = sorted(input_files, key=lambda x: int(re.search(r'\\d+', x).group()))  # Sort by year\n",
    "\n",
    "    for input_file in input_files:\n",
    "        # Determine year and month from the file name\n",
    "        match = re.search(r'(\\d{4})_(\\w+)_.*\\.csv', input_file)\n",
    "        if not match:\n",
    "            print(f\"Skipping file {input_file}: Could not determine year and month.\")\n",
    "            continue\n",
    "        \n",
    "        year, month = match.groups()\n",
    "        year = int(year)\n",
    "        \n",
    "        # Determine half-year period\n",
    "        if month.lower() in ['jan', 'feb', 'mar', 'apr', 'may', 'jun', 'june']:\n",
    "            half_year = f\"{year}_H1\"  # First half-year\n",
    "        else:\n",
    "            half_year = f\"{year}_H2\"  # Second half-year\n",
    "\n",
    "        # Read the file with automatic format detection\n",
    "        file_path = os.path.join(input_folder, input_file)\n",
    "        try:\n",
    "            if (half_year == \"2021_H2\" or half_year == \"2022_H2\" or half_year == \"2023_H1\"):\n",
    "                csv_format ={'delimiter': ';', 'quotechar': '\"'}\n",
    "            else: \n",
    "                csv_format = detect_csv_format(file_path)  # Detect the format of the file\n",
    "            df = pd.read_csv(file_path, on_bad_lines='skip', **csv_format)\n",
    "\n",
    "            # Remove empty rows\n",
    "            df.dropna(how='all', inplace=True)\n",
    "\n",
    "            # Standardize column names\n",
    "            df = standardize_columns(df, column_mapping)\n",
    "\n",
    "            # Add the half-year period column\n",
    "            df['period'] = half_year\n",
    "            print(f\"half year: {half_year} csv format: {csv_format}\")\n",
    "            # Append the processed DataFrame to the combined list\n",
    "            combined_data.append(df)\n",
    "        except Exception as e:\n",
    "            print(f\"Error reading file {input_file}: {e}\")\n",
    "            continue\n",
    "\n",
    "    # Combine all DataFrames into one\n",
    "    combined_df = pd.concat(combined_data, ignore_index=True)\n",
    "\n",
    "    # Select only the required columns\n",
    "    final_columns = ['period', 'position', \"seniority\", \"general experience seniority\",\n",
    "                     \"local experience seniority\", 'salary', \"bonuses flag\", \"bonuses amount\", \"frequency\"]\n",
    "    combined_df = combined_df[final_columns]\n",
    "\n",
    "    # Save the combined dataset to a file\n",
    "    combined_df.to_csv(output_file, index=False)\n",
    "    print(f\"Final dataset saved to: {output_file}\")\n",
    "def get_next_filename(base_filename, folder):\n",
    "    \"\"\"\n",
    "    Генерує унікальну назву файлу, додаючи +1 до номера.\n",
    "    \"\"\"\n",
    "    if not os.path.exists(folder):\n",
    "        os.makedirs(folder)\n",
    "\n",
    "    files = os.listdir(folder)\n",
    "\n",
    "    matching_files = [f for f in files if f.startswith(base_filename) and f.endswith(\".csv\")]\n",
    "\n",
    "    max_number = 0\n",
    "    for file in matching_files:\n",
    "        try:\n",
    "            number = int(file.replace(base_filename, \"\").replace(\".csv\", \"\").strip(\"_\"))\n",
    "            if number > max_number:\n",
    "                max_number = number\n",
    "        except ValueError:\n",
    "            continue\n",
    "\n",
    "    next_number = max_number + 1\n",
    "    return os.path.join(folder, f\"{base_filename}_{next_number}.csv\")\n"
   ],
   "id": "1658dfe9c7de9d30",
   "outputs": [],
   "execution_count": 27
  },
  {
   "metadata": {},
   "cell_type": "markdown",
   "source": "#### variables ",
   "id": "3438a8c2e313ecf9"
  },
  {
   "metadata": {
    "ExecuteTime": {
     "end_time": "2025-05-10T08:34:08.482703Z",
     "start_time": "2025-05-10T08:34:08.477829Z"
    }
   },
   "cell_type": "code",
   "source": [
    "input_folder = \"unprocessed_salary\"\n",
    "output_folder = \"raw_salary_compile\" "
   ],
   "id": "d2cff21db76db249",
   "outputs": [],
   "execution_count": 28
  },
  {
   "metadata": {},
   "cell_type": "markdown",
   "source": "#### main script",
   "id": "db258fa06e25eaf"
  },
  {
   "metadata": {
    "ExecuteTime": {
     "end_time": "2025-05-10T08:34:08.487674Z",
     "start_time": "2025-05-10T08:34:08.483213Z"
    }
   },
   "cell_type": "code",
   "source": [
    "# data = pd.read_csv(\"raw_salary_compile/combined_salary_2.csv\", low_memory=False)\n",
    "# query = \"\"\"\n",
    "#     SELECT DISTINCT `bonuses flag`\n",
    "#     FROM data\n",
    "# \"\"\"\n",
    "# \n",
    "# # Виконання запиту\n",
    "# unique_bonuses_flag = ps.sqldf(query, locals())\n",
    "# \n",
    "# # Виведення результату\n",
    "# print(unique_bonuses_flag)"
   ],
   "id": "963a3f71777e2ccb",
   "outputs": [],
   "execution_count": 29
  },
  {
   "metadata": {},
   "cell_type": "markdown",
   "source": "",
   "id": "234ce8f9b902f4e8"
  },
  {
   "metadata": {
    "ExecuteTime": {
     "end_time": "2025-05-10T08:34:10.502526Z",
     "start_time": "2025-05-10T08:34:08.489185Z"
    }
   },
   "cell_type": "code",
   "source": [
    "output_path = get_next_filename(\"combined_salary\", output_folder)\n",
    "\n",
    "print(f\"Обробляємо файли: {input_folder}\\\\\")\n",
    "process_salary_data(input_folder, output_path)\n",
    "print(f\"Результат збережено в: {output_path}\")"
   ],
   "id": "90f4eed3c717ad7f",
   "outputs": [
    {
     "name": "stdout",
     "output_type": "stream",
     "text": [
      "Обробляємо файли: unprocessed_salary\\\n",
      "half year: 2015_H2 csv format: {'delimiter': ',', 'quotechar': '\"'}\n",
      "half year: 2015_H1 csv format: {'delimiter': ',', 'quotechar': '\"'}\n",
      "half year: 2016_H2 csv format: {'delimiter': ',', 'quotechar': '\"'}\n",
      "half year: 2016_H1 csv format: {'delimiter': ',', 'quotechar': '\"'}\n",
      "half year: 2017_H2 csv format: {'delimiter': ',', 'quotechar': '\"'}\n",
      "half year: 2017_H1 csv format: {'delimiter': ',', 'quotechar': '\"'}\n",
      "half year: 2018_H2 csv format: {'delimiter': ',', 'quotechar': '\"'}\n",
      "half year: 2018_H1 csv format: {'delimiter': ',', 'quotechar': '\"'}\n",
      "half year: 2019_H2 csv format: {'delimiter': ',', 'quotechar': '\"'}\n",
      "half year: 2019_H1 csv format: {'delimiter': ',', 'quotechar': '\"'}\n",
      "half year: 2020_H2 csv format: {'delimiter': ',', 'quotechar': '\"'}\n",
      "half year: 2020_H1 csv format: {'delimiter': ',', 'quotechar': '\"'}\n",
      "half year: 2021_H2 csv format: {'delimiter': ';', 'quotechar': '\"'}\n",
      "half year: 2021_H1 csv format: {'delimiter': ',', 'quotechar': '\"'}\n",
      "half year: 2022_H2 csv format: {'delimiter': ';', 'quotechar': '\"'}\n",
      "half year: 2022_H1 csv format: {'delimiter': ',', 'quotechar': '\"'}\n",
      "half year: 2023_H2 csv format: {'delimiter': ',', 'quotechar': '\"'}\n",
      "half year: 2023_H1 csv format: {'delimiter': ';', 'quotechar': '\"'}\n",
      "half year: 2024_H2 csv format: {'delimiter': ',', 'quotechar': '\"'}\n",
      "half year: 2024_H1 csv format: {'delimiter': ',', 'quotechar': '\"'}\n",
      "Final dataset saved to: raw_salary_compile\\combined_salary_9.csv\n",
      "Результат збережено в: raw_salary_compile\\combined_salary_9.csv\n"
     ]
    }
   ],
   "execution_count": 30
  }
 ],
 "metadata": {
  "kernelspec": {
   "display_name": "Python 3",
   "language": "python",
   "name": "python3"
  },
  "language_info": {
   "codemirror_mode": {
    "name": "ipython",
    "version": 2
   },
   "file_extension": ".py",
   "mimetype": "text/x-python",
   "name": "python",
   "nbconvert_exporter": "python",
   "pygments_lexer": "ipython2",
   "version": "2.7.6"
  }
 },
 "nbformat": 4,
 "nbformat_minor": 5
}
