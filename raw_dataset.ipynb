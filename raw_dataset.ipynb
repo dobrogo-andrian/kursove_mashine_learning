{
 "cells": [
  {
   "metadata": {},
   "cell_type": "markdown",
   "source": "## Курсова машін льорнінінг",
   "id": "89bdd08aee932145"
  },
  {
   "metadata": {},
   "cell_type": "markdown",
   "source": "### Data loading",
   "id": "3bbb6a73d5bceca"
  },
  {
   "metadata": {},
   "cell_type": "markdown",
   "source": "#### imports",
   "id": "d977c4c52efe05"
  },
  {
   "metadata": {
    "ExecuteTime": {
     "end_time": "2025-05-13T12:39:35.853390Z",
     "start_time": "2025-05-13T12:39:35.849118Z"
    }
   },
   "cell_type": "code",
   "source": [
    "import pandas as pd\n",
    "import re\n",
    "import os\n",
    "import pandasql as ps"
   ],
   "id": "53b8b183f6a922c7",
   "outputs": [],
   "execution_count": 7
  },
  {
   "metadata": {},
   "cell_type": "markdown",
   "source": "#### functions",
   "id": "929318c13dd08f20"
  },
  {
   "metadata": {
    "ExecuteTime": {
     "end_time": "2025-05-13T12:39:35.881901Z",
     "start_time": "2025-05-13T12:39:35.866349Z"
    }
   },
   "cell_type": "code",
   "source": [
    "import csv\n",
    "\n",
    "\n",
    "def standardize_columns(df, column_mapping):\n",
    "    \"\"\"\n",
    "    Standardize column names based on a mapping dictionary.\n",
    "    :param df: DataFrame with raw data.\n",
    "    :param column_mapping: Dictionary where keys are possible column names and values are standardized names.\n",
    "    :return: DataFrame with standardized column names.\n",
    "    \"\"\"\n",
    "    standardized_columns = {}\n",
    "    for col in df.columns:\n",
    "        # Map column names using the dictionary, or keep the original name if not found\n",
    "        standardized_columns[col] = column_mapping.get(col, col)\n",
    "    \n",
    "    df.rename(columns=standardized_columns, inplace=True)\n",
    "    return df\n",
    "\n",
    "def detect_csv_format(file_path):\n",
    "    \"\"\"\n",
    "    Automatically detect the format of a CSV file (delimiter, quotechar, etc.).\n",
    "    :param file_path: Path to the CSV file.\n",
    "    :return: Dictionary with parameters for reading the file.\n",
    "    \"\"\"\n",
    "    try:\n",
    "        with open(file_path, 'r', encoding='utf-8') as f:\n",
    "            sample = f.read(1024)  # Read the first 1024 characters for analysis\n",
    "            sniffer = csv.Sniffer()\n",
    "            dialect = sniffer.sniff(sample)\n",
    "            return {\n",
    "                'delimiter': dialect.delimiter,\n",
    "                'quotechar': dialect.quotechar\n",
    "            }\n",
    "    except Exception as e:\n",
    "        print(f\"Failed to detect the format of the file {file_path}: {e}\")\n",
    "        # Return fallback delimiters in order of likelihood\n",
    "        return {'delimiter': ';', 'quotechar': '\"'}\n",
    "\n",
    "\n",
    "def process_salary_data(input_folder, output_file):\n",
    "    \"\"\"\n",
    "    Processes all salary files, standardizes columns, adds the period (half-year), and combines them into one dataset.\n",
    "    :param input_folder: Path to the folder with input files.\n",
    "    :param output_file: Path to the output CSV file.\n",
    "    \"\"\"\n",
    "    combined_data = []  # List to store processed data\n",
    "\n",
    "    # Column mapping for standardization\n",
    "    column_mapping = {\n",
    "        \"Зарплата / дохід в ІТ у $$$ за місяць, лише ставка після сплати податків\": \"salary\",\n",
    "        \"Зарплата\": \"salary\",\n",
    "        \"Salary\": \"salary\",\n",
    "        \"salary\": \"salary\",\n",
    "        \"Зарплата в месяц\": \"salary\",\n",
    "        \"Зарплата за місяць, net, після податків\": \"salary\",\n",
    "        \"Зарплата у $$$ за місяць, лише ставка після сплати податків\": \"salary\",\n",
    "        \"Чи отримуєте ви грошові бонуси до зарплати?\": \"bonuses flag\",\n",
    "        \"Вкажіть суму цього бонуса у $$$ після податків\": \"bonuses amount\",\n",
    "        \"Зарплата.в.месяц\": \"salary\",\n",
    "        \"Вкажіть суму цього бонуса у  після податків\": \"bonuses amount\",\n",
    "        \"Зарплата / дохід у $$$ за місяць, лише ставка ЧИСТИМИ - після сплати податків\": \"salary\",\n",
    "        \"Зарплата / дохід в IT у $$$ за місяць\": \"salary\",\n",
    "        \"\"\"Зарплата / дохід в ІТ у $$$ за місяць, лише ставка \n",
    "ЧИСТИМИ - після сплати податків\"\"\": \"salary\",\n",
    "        \"Зарплата / дохід у $$$ за місяць, лише ставка після сплати податків\" : \"salary\",\n",
    "        \"\"\"Зарплата / дохід у $$$ за місяць, лише ставка \n",
    "ЧИСТИМИ - після сплати податків\"\"\": \"salary\",\n",
    "    \"\"\"\\\"Зарплата / дохід у $$$ за місяць, лише ставка \n",
    "ЧИСТИМИ - після сплати податків\",Оберіть вашу основну посаду\"\"\": \"salary\",\n",
    "        \"\"\"Зарплата / дохід в IT у $$$ за місяць, лише ставка \n",
    "ЧИСТИМИ - після сплати податків\"\"\": \"salary\",\n",
    "        \n",
    "\n",
    "\n",
    "\n",
    "        \n",
    "        \"Должность\": \"position\",\n",
    "        \"Оберіть вашу основну посаду\": \"position\",\n",
    "        \"Оберіть вашу посаду\": \"position\",\n",
    "        \"Посада\": \"position\",\n",
    "        \"Position\": \"position\",\n",
    "        \"position\": \"position\",\n",
    "        \"Спеціалізація\": \"position\",\n",
    "        \n",
    "        \n",
    "        \"Ваш тайтл на цій посаді\": \"seniority\",\n",
    "        \"Оберіть ваш тайтл або роль у компанії\": \"seniority\",\n",
    "        \"Общий опыт работы\": \"general experience seniority\",\n",
    "        \"Опыт работы на текущем месте\": \"local experience seniority\",\n",
    "        \"Загальний стаж роботи за спеціальністю\": \"general experience seniority\",\n",
    "        \"Стаж на поточному місці роботи\": \"local experience seniority\",\n",
    "        \"Ваш тайтл\": \"seniority\",\n",
    "        \"exp\": \"general experience seniority\",\n",
    "        \"current_job_exp\": \"local experience seniority\",\n",
    "        \"experience\": \"general experience seniority\",\n",
    "        \n",
    "        \n",
    "        \"freq\": \"frequency\"\n",
    "    }\n",
    "\n",
    "    # Read all files in the input folder\n",
    "    input_files = [f for f in os.listdir(input_folder) if f.endswith('.csv')]\n",
    "    input_files = sorted(input_files, key=lambda x: int(re.search(r'\\d+', x).group()))  # Sort by year\n",
    "\n",
    "    for input_file in input_files:\n",
    "        # Determine year and month from the file name\n",
    "        match = re.search(r'(\\d{4})_(\\w+)_.*\\.csv', input_file)\n",
    "        if not match:\n",
    "            print(f\"Skipping file {input_file}: Could not determine year and month.\")\n",
    "            continue\n",
    "        \n",
    "        year, month = match.groups()\n",
    "        year = int(year)\n",
    "        \n",
    "        # Determine half-year period\n",
    "        if month.lower() in ['jan', 'feb', 'mar', 'apr', 'may', 'jun', 'june']:\n",
    "            half_year = f\"{year}_H1\"  # First half-year\n",
    "        else:\n",
    "            half_year = f\"{year}_H2\"  # Second half-year\n",
    "\n",
    "        # Read the file with automatic format detection\n",
    "        file_path = os.path.join(input_folder, input_file)\n",
    "        try:\n",
    "            if (half_year == \"2021_H2\" or half_year == \"2022_H2\" or half_year == \"2023_H1\"):\n",
    "                csv_format ={'delimiter': ';', 'quotechar': '\"'}\n",
    "            else: \n",
    "                csv_format = detect_csv_format(file_path)  # Detect the format of the file\n",
    "                \n",
    "            df = pd.read_csv(file_path, on_bad_lines='skip', **csv_format)\n",
    "            if (half_year == \"2021_H1\"):\n",
    "                df.rename(columns={\"Загальний стаж роботи за спеціальністю\": \"general_experience\"}, inplace=True)\n",
    "                \n",
    "            if (half_year == \"2022_H1\"):\n",
    "                # Видалення записів, де \"city\" = \"Всі міста\" або \"experience\" = \"Весь досвід\"\n",
    "                df = df[~((df[\"city\"] == \"Всі міста\") | (df[\"experience\"] == \"Весь досвід\"))]\n",
    "\n",
    "            # Remove empty rows\n",
    "            df.dropna(how='all', inplace=True)\n",
    "\n",
    "            # Standardize column names\n",
    "            df = standardize_columns(df, column_mapping)\n",
    "\n",
    "            # Add the half-year period column\n",
    "            df['period'] = half_year\n",
    "            print(f\"half year: {half_year} csv format: {csv_format}\")\n",
    "            # Append the processed DataFrame to the combined list\n",
    "            combined_data.append(df)\n",
    "        except Exception as e:\n",
    "            print(f\"Error reading file {input_file}: {e}\")\n",
    "            continue\n",
    "\n",
    "    # Combine all DataFrames into one\n",
    "    combined_df = pd.concat(combined_data, ignore_index=True)\n",
    "\n",
    "    # Select only the required columns\n",
    "    final_columns = ['period', 'position', \"seniority\", \"general experience seniority\",\n",
    "                     \"local experience seniority\", 'salary', \"bonuses flag\", \"bonuses amount\", \"frequency\"]\n",
    "    combined_df = combined_df[final_columns]\n",
    "\n",
    "    # Save the combined dataset to a file\n",
    "    combined_df.to_csv(output_file, index=False)\n",
    "    print(f\"Final dataset saved to: {output_file}\")\n",
    "def get_next_filename(base_filename, folder):\n",
    "    \"\"\"\n",
    "    Генерує унікальну назву файлу, додаючи +1 до номера.\n",
    "    \"\"\"\n",
    "    if not os.path.exists(folder):\n",
    "        os.makedirs(folder)\n",
    "\n",
    "    files = os.listdir(folder)\n",
    "\n",
    "    matching_files = [f for f in files if f.startswith(base_filename) and f.endswith(\".csv\")]\n",
    "\n",
    "    max_number = 0\n",
    "    for file in matching_files:\n",
    "        try:\n",
    "            number = int(file.replace(base_filename, \"\").replace(\".csv\", \"\").strip(\"_\"))\n",
    "            if number > max_number:\n",
    "                max_number = number\n",
    "        except ValueError:\n",
    "            continue\n",
    "\n",
    "    next_number = max_number + 1\n",
    "    return os.path.join(folder, f\"{base_filename}_{next_number}.csv\")\n"
   ],
   "id": "1658dfe9c7de9d30",
   "outputs": [],
   "execution_count": 8
  },
  {
   "metadata": {},
   "cell_type": "markdown",
   "source": "#### variables ",
   "id": "3438a8c2e313ecf9"
  },
  {
   "metadata": {
    "ExecuteTime": {
     "end_time": "2025-05-13T12:39:35.886927Z",
     "start_time": "2025-05-13T12:39:35.882882Z"
    }
   },
   "cell_type": "code",
   "source": [
    "input_folder = \"unprocessed_salary\"\n",
    "output_folder = \"raw_salary_compile\" "
   ],
   "id": "d2cff21db76db249",
   "outputs": [],
   "execution_count": 9
  },
  {
   "metadata": {},
   "cell_type": "markdown",
   "source": "#### main script",
   "id": "db258fa06e25eaf"
  },
  {
   "metadata": {
    "ExecuteTime": {
     "end_time": "2025-05-13T12:39:35.894972Z",
     "start_time": "2025-05-13T12:39:35.891953Z"
    }
   },
   "cell_type": "code",
   "source": "",
   "id": "963a3f71777e2ccb",
   "outputs": [],
   "execution_count": 9
  },
  {
   "metadata": {},
   "cell_type": "markdown",
   "source": "",
   "id": "234ce8f9b902f4e8"
  },
  {
   "metadata": {
    "ExecuteTime": {
     "end_time": "2025-05-13T12:39:37.907092Z",
     "start_time": "2025-05-13T12:39:35.895965Z"
    }
   },
   "cell_type": "code",
   "source": [
    "output_path = get_next_filename(\"combined_salary\", output_folder)\n",
    "\n",
    "print(f\"Обробляємо файли: {input_folder}\\\\\")\n",
    "process_salary_data(input_folder, output_path)\n",
    "print(f\"Результат збережено в: {output_path}\")"
   ],
   "id": "90f4eed3c717ad7f",
   "outputs": [
    {
     "name": "stdout",
     "output_type": "stream",
     "text": [
      "Обробляємо файли: unprocessed_salary\\\n",
      "half year: 2015_H2 csv format: {'delimiter': ',', 'quotechar': '\"'}\n",
      "half year: 2015_H1 csv format: {'delimiter': ',', 'quotechar': '\"'}\n",
      "half year: 2016_H2 csv format: {'delimiter': ',', 'quotechar': '\"'}\n",
      "half year: 2016_H1 csv format: {'delimiter': ',', 'quotechar': '\"'}\n",
      "half year: 2017_H2 csv format: {'delimiter': ',', 'quotechar': '\"'}\n",
      "half year: 2017_H1 csv format: {'delimiter': ',', 'quotechar': '\"'}\n",
      "half year: 2018_H2 csv format: {'delimiter': ',', 'quotechar': '\"'}\n",
      "half year: 2018_H1 csv format: {'delimiter': ',', 'quotechar': '\"'}\n",
      "half year: 2019_H2 csv format: {'delimiter': ',', 'quotechar': '\"'}\n",
      "half year: 2019_H1 csv format: {'delimiter': ',', 'quotechar': '\"'}\n",
      "half year: 2020_H2 csv format: {'delimiter': ',', 'quotechar': '\"'}\n",
      "half year: 2020_H1 csv format: {'delimiter': ',', 'quotechar': '\"'}\n",
      "half year: 2021_H2 csv format: {'delimiter': ';', 'quotechar': '\"'}\n",
      "half year: 2021_H1 csv format: {'delimiter': ',', 'quotechar': '\"'}\n",
      "half year: 2022_H2 csv format: {'delimiter': ';', 'quotechar': '\"'}\n",
      "half year: 2022_H1 csv format: {'delimiter': ',', 'quotechar': '\"'}\n",
      "half year: 2023_H2 csv format: {'delimiter': ',', 'quotechar': '\"'}\n",
      "half year: 2023_H1 csv format: {'delimiter': ';', 'quotechar': '\"'}\n",
      "half year: 2024_H2 csv format: {'delimiter': ',', 'quotechar': '\"'}\n",
      "half year: 2024_H1 csv format: {'delimiter': ',', 'quotechar': '\"'}\n",
      "Final dataset saved to: raw_salary_compile\\combined_salary_1.csv\n",
      "Результат збережено в: raw_salary_compile\\combined_salary_1.csv\n"
     ]
    }
   ],
   "execution_count": 10
  },
  {
   "metadata": {
    "ExecuteTime": {
     "end_time": "2025-05-13T12:39:39.579156Z",
     "start_time": "2025-05-13T12:39:37.907603Z"
    }
   },
   "cell_type": "code",
   "source": [
    "\n",
    "\n",
    "data = pd.read_csv(output_path, low_memory=False)\n",
    "query = \"\"\"\n",
    "    SELECT count(*)\n",
    "    FROM data\n",
    "    where salary is NULL\n",
    "    limit 100\n",
    "\"\"\"\n",
    "\n",
    "# Виконання запиту\n",
    "unique_bonuses_flag = ps.sqldf(query, locals())\n",
    "\n",
    "# Виведення результату\n",
    "print(unique_bonuses_flag)"
   ],
   "id": "8ae2ea5d5c0075c6",
   "outputs": [
    {
     "name": "stdout",
     "output_type": "stream",
     "text": [
      "   count(*)\n",
      "0       116\n"
     ]
    }
   ],
   "execution_count": 11
  },
  {
   "metadata": {
    "ExecuteTime": {
     "end_time": "2025-05-13T12:39:39.649963Z",
     "start_time": "2025-05-13T12:39:39.580685Z"
    }
   },
   "cell_type": "code",
   "source": [
    "\n",
    "query = \"\"\"\n",
    "    SELECT distinct \n",
    "    FROM data\n",
    "    where salary is NULL\n",
    "    limit 100\n",
    "\"\"\"\n",
    "\n",
    "# Виконання запиту\n",
    "unique_bonuses_flag = ps.sqldf(query, locals())\n",
    "\n",
    "# Виведення результату\n",
    "print(unique_bonuses_flag)"
   ],
   "id": "470e1669e8764df3",
   "outputs": [
    {
     "ename": "FileNotFoundError",
     "evalue": "[Errno 2] No such file or directory: 'raw_salary_compile/combined_salary_2.csv'",
     "output_type": "error",
     "traceback": [
      "\u001B[1;31m---------------------------------------------------------------------------\u001B[0m",
      "\u001B[1;31mFileNotFoundError\u001B[0m                         Traceback (most recent call last)",
      "Cell \u001B[1;32mIn[12], line 1\u001B[0m\n\u001B[1;32m----> 1\u001B[0m data \u001B[38;5;241m=\u001B[39m \u001B[43mpd\u001B[49m\u001B[38;5;241;43m.\u001B[39;49m\u001B[43mread_csv\u001B[49m\u001B[43m(\u001B[49m\u001B[38;5;124;43m\"\u001B[39;49m\u001B[38;5;124;43mraw_salary_compile/combined_salary_2.csv\u001B[39;49m\u001B[38;5;124;43m\"\u001B[39;49m\u001B[43m,\u001B[49m\u001B[43m \u001B[49m\u001B[43mlow_memory\u001B[49m\u001B[38;5;241;43m=\u001B[39;49m\u001B[38;5;28;43;01mFalse\u001B[39;49;00m\u001B[43m)\u001B[49m\n\u001B[0;32m      2\u001B[0m query \u001B[38;5;241m=\u001B[39m \u001B[38;5;124m\"\"\"\u001B[39m\n\u001B[0;32m      3\u001B[0m \u001B[38;5;124m    SELECT distinct \u001B[39m\n\u001B[0;32m      4\u001B[0m \u001B[38;5;124m    FROM data\u001B[39m\n\u001B[0;32m      5\u001B[0m \u001B[38;5;124m    where salary is NULL\u001B[39m\n\u001B[0;32m      6\u001B[0m \u001B[38;5;124m    limit 100\u001B[39m\n\u001B[0;32m      7\u001B[0m \u001B[38;5;124m\"\"\"\u001B[39m\n\u001B[0;32m      9\u001B[0m \u001B[38;5;66;03m# Виконання запиту\u001B[39;00m\n",
      "File \u001B[1;32m~\\miniconda3\\Lib\\site-packages\\pandas\\io\\parsers\\readers.py:1026\u001B[0m, in \u001B[0;36mread_csv\u001B[1;34m(filepath_or_buffer, sep, delimiter, header, names, index_col, usecols, dtype, engine, converters, true_values, false_values, skipinitialspace, skiprows, skipfooter, nrows, na_values, keep_default_na, na_filter, verbose, skip_blank_lines, parse_dates, infer_datetime_format, keep_date_col, date_parser, date_format, dayfirst, cache_dates, iterator, chunksize, compression, thousands, decimal, lineterminator, quotechar, quoting, doublequote, escapechar, comment, encoding, encoding_errors, dialect, on_bad_lines, delim_whitespace, low_memory, memory_map, float_precision, storage_options, dtype_backend)\u001B[0m\n\u001B[0;32m   1013\u001B[0m kwds_defaults \u001B[38;5;241m=\u001B[39m _refine_defaults_read(\n\u001B[0;32m   1014\u001B[0m     dialect,\n\u001B[0;32m   1015\u001B[0m     delimiter,\n\u001B[1;32m   (...)\u001B[0m\n\u001B[0;32m   1022\u001B[0m     dtype_backend\u001B[38;5;241m=\u001B[39mdtype_backend,\n\u001B[0;32m   1023\u001B[0m )\n\u001B[0;32m   1024\u001B[0m kwds\u001B[38;5;241m.\u001B[39mupdate(kwds_defaults)\n\u001B[1;32m-> 1026\u001B[0m \u001B[38;5;28;01mreturn\u001B[39;00m \u001B[43m_read\u001B[49m\u001B[43m(\u001B[49m\u001B[43mfilepath_or_buffer\u001B[49m\u001B[43m,\u001B[49m\u001B[43m \u001B[49m\u001B[43mkwds\u001B[49m\u001B[43m)\u001B[49m\n",
      "File \u001B[1;32m~\\miniconda3\\Lib\\site-packages\\pandas\\io\\parsers\\readers.py:620\u001B[0m, in \u001B[0;36m_read\u001B[1;34m(filepath_or_buffer, kwds)\u001B[0m\n\u001B[0;32m    617\u001B[0m _validate_names(kwds\u001B[38;5;241m.\u001B[39mget(\u001B[38;5;124m\"\u001B[39m\u001B[38;5;124mnames\u001B[39m\u001B[38;5;124m\"\u001B[39m, \u001B[38;5;28;01mNone\u001B[39;00m))\n\u001B[0;32m    619\u001B[0m \u001B[38;5;66;03m# Create the parser.\u001B[39;00m\n\u001B[1;32m--> 620\u001B[0m parser \u001B[38;5;241m=\u001B[39m \u001B[43mTextFileReader\u001B[49m\u001B[43m(\u001B[49m\u001B[43mfilepath_or_buffer\u001B[49m\u001B[43m,\u001B[49m\u001B[43m \u001B[49m\u001B[38;5;241;43m*\u001B[39;49m\u001B[38;5;241;43m*\u001B[39;49m\u001B[43mkwds\u001B[49m\u001B[43m)\u001B[49m\n\u001B[0;32m    622\u001B[0m \u001B[38;5;28;01mif\u001B[39;00m chunksize \u001B[38;5;129;01mor\u001B[39;00m iterator:\n\u001B[0;32m    623\u001B[0m     \u001B[38;5;28;01mreturn\u001B[39;00m parser\n",
      "File \u001B[1;32m~\\miniconda3\\Lib\\site-packages\\pandas\\io\\parsers\\readers.py:1620\u001B[0m, in \u001B[0;36mTextFileReader.__init__\u001B[1;34m(self, f, engine, **kwds)\u001B[0m\n\u001B[0;32m   1617\u001B[0m     \u001B[38;5;28mself\u001B[39m\u001B[38;5;241m.\u001B[39moptions[\u001B[38;5;124m\"\u001B[39m\u001B[38;5;124mhas_index_names\u001B[39m\u001B[38;5;124m\"\u001B[39m] \u001B[38;5;241m=\u001B[39m kwds[\u001B[38;5;124m\"\u001B[39m\u001B[38;5;124mhas_index_names\u001B[39m\u001B[38;5;124m\"\u001B[39m]\n\u001B[0;32m   1619\u001B[0m \u001B[38;5;28mself\u001B[39m\u001B[38;5;241m.\u001B[39mhandles: IOHandles \u001B[38;5;241m|\u001B[39m \u001B[38;5;28;01mNone\u001B[39;00m \u001B[38;5;241m=\u001B[39m \u001B[38;5;28;01mNone\u001B[39;00m\n\u001B[1;32m-> 1620\u001B[0m \u001B[38;5;28mself\u001B[39m\u001B[38;5;241m.\u001B[39m_engine \u001B[38;5;241m=\u001B[39m \u001B[38;5;28;43mself\u001B[39;49m\u001B[38;5;241;43m.\u001B[39;49m\u001B[43m_make_engine\u001B[49m\u001B[43m(\u001B[49m\u001B[43mf\u001B[49m\u001B[43m,\u001B[49m\u001B[43m \u001B[49m\u001B[38;5;28;43mself\u001B[39;49m\u001B[38;5;241;43m.\u001B[39;49m\u001B[43mengine\u001B[49m\u001B[43m)\u001B[49m\n",
      "File \u001B[1;32m~\\miniconda3\\Lib\\site-packages\\pandas\\io\\parsers\\readers.py:1880\u001B[0m, in \u001B[0;36mTextFileReader._make_engine\u001B[1;34m(self, f, engine)\u001B[0m\n\u001B[0;32m   1878\u001B[0m     \u001B[38;5;28;01mif\u001B[39;00m \u001B[38;5;124m\"\u001B[39m\u001B[38;5;124mb\u001B[39m\u001B[38;5;124m\"\u001B[39m \u001B[38;5;129;01mnot\u001B[39;00m \u001B[38;5;129;01min\u001B[39;00m mode:\n\u001B[0;32m   1879\u001B[0m         mode \u001B[38;5;241m+\u001B[39m\u001B[38;5;241m=\u001B[39m \u001B[38;5;124m\"\u001B[39m\u001B[38;5;124mb\u001B[39m\u001B[38;5;124m\"\u001B[39m\n\u001B[1;32m-> 1880\u001B[0m \u001B[38;5;28mself\u001B[39m\u001B[38;5;241m.\u001B[39mhandles \u001B[38;5;241m=\u001B[39m \u001B[43mget_handle\u001B[49m\u001B[43m(\u001B[49m\n\u001B[0;32m   1881\u001B[0m \u001B[43m    \u001B[49m\u001B[43mf\u001B[49m\u001B[43m,\u001B[49m\n\u001B[0;32m   1882\u001B[0m \u001B[43m    \u001B[49m\u001B[43mmode\u001B[49m\u001B[43m,\u001B[49m\n\u001B[0;32m   1883\u001B[0m \u001B[43m    \u001B[49m\u001B[43mencoding\u001B[49m\u001B[38;5;241;43m=\u001B[39;49m\u001B[38;5;28;43mself\u001B[39;49m\u001B[38;5;241;43m.\u001B[39;49m\u001B[43moptions\u001B[49m\u001B[38;5;241;43m.\u001B[39;49m\u001B[43mget\u001B[49m\u001B[43m(\u001B[49m\u001B[38;5;124;43m\"\u001B[39;49m\u001B[38;5;124;43mencoding\u001B[39;49m\u001B[38;5;124;43m\"\u001B[39;49m\u001B[43m,\u001B[49m\u001B[43m \u001B[49m\u001B[38;5;28;43;01mNone\u001B[39;49;00m\u001B[43m)\u001B[49m\u001B[43m,\u001B[49m\n\u001B[0;32m   1884\u001B[0m \u001B[43m    \u001B[49m\u001B[43mcompression\u001B[49m\u001B[38;5;241;43m=\u001B[39;49m\u001B[38;5;28;43mself\u001B[39;49m\u001B[38;5;241;43m.\u001B[39;49m\u001B[43moptions\u001B[49m\u001B[38;5;241;43m.\u001B[39;49m\u001B[43mget\u001B[49m\u001B[43m(\u001B[49m\u001B[38;5;124;43m\"\u001B[39;49m\u001B[38;5;124;43mcompression\u001B[39;49m\u001B[38;5;124;43m\"\u001B[39;49m\u001B[43m,\u001B[49m\u001B[43m \u001B[49m\u001B[38;5;28;43;01mNone\u001B[39;49;00m\u001B[43m)\u001B[49m\u001B[43m,\u001B[49m\n\u001B[0;32m   1885\u001B[0m \u001B[43m    \u001B[49m\u001B[43mmemory_map\u001B[49m\u001B[38;5;241;43m=\u001B[39;49m\u001B[38;5;28;43mself\u001B[39;49m\u001B[38;5;241;43m.\u001B[39;49m\u001B[43moptions\u001B[49m\u001B[38;5;241;43m.\u001B[39;49m\u001B[43mget\u001B[49m\u001B[43m(\u001B[49m\u001B[38;5;124;43m\"\u001B[39;49m\u001B[38;5;124;43mmemory_map\u001B[39;49m\u001B[38;5;124;43m\"\u001B[39;49m\u001B[43m,\u001B[49m\u001B[43m \u001B[49m\u001B[38;5;28;43;01mFalse\u001B[39;49;00m\u001B[43m)\u001B[49m\u001B[43m,\u001B[49m\n\u001B[0;32m   1886\u001B[0m \u001B[43m    \u001B[49m\u001B[43mis_text\u001B[49m\u001B[38;5;241;43m=\u001B[39;49m\u001B[43mis_text\u001B[49m\u001B[43m,\u001B[49m\n\u001B[0;32m   1887\u001B[0m \u001B[43m    \u001B[49m\u001B[43merrors\u001B[49m\u001B[38;5;241;43m=\u001B[39;49m\u001B[38;5;28;43mself\u001B[39;49m\u001B[38;5;241;43m.\u001B[39;49m\u001B[43moptions\u001B[49m\u001B[38;5;241;43m.\u001B[39;49m\u001B[43mget\u001B[49m\u001B[43m(\u001B[49m\u001B[38;5;124;43m\"\u001B[39;49m\u001B[38;5;124;43mencoding_errors\u001B[39;49m\u001B[38;5;124;43m\"\u001B[39;49m\u001B[43m,\u001B[49m\u001B[43m \u001B[49m\u001B[38;5;124;43m\"\u001B[39;49m\u001B[38;5;124;43mstrict\u001B[39;49m\u001B[38;5;124;43m\"\u001B[39;49m\u001B[43m)\u001B[49m\u001B[43m,\u001B[49m\n\u001B[0;32m   1888\u001B[0m \u001B[43m    \u001B[49m\u001B[43mstorage_options\u001B[49m\u001B[38;5;241;43m=\u001B[39;49m\u001B[38;5;28;43mself\u001B[39;49m\u001B[38;5;241;43m.\u001B[39;49m\u001B[43moptions\u001B[49m\u001B[38;5;241;43m.\u001B[39;49m\u001B[43mget\u001B[49m\u001B[43m(\u001B[49m\u001B[38;5;124;43m\"\u001B[39;49m\u001B[38;5;124;43mstorage_options\u001B[39;49m\u001B[38;5;124;43m\"\u001B[39;49m\u001B[43m,\u001B[49m\u001B[43m \u001B[49m\u001B[38;5;28;43;01mNone\u001B[39;49;00m\u001B[43m)\u001B[49m\u001B[43m,\u001B[49m\n\u001B[0;32m   1889\u001B[0m \u001B[43m\u001B[49m\u001B[43m)\u001B[49m\n\u001B[0;32m   1890\u001B[0m \u001B[38;5;28;01massert\u001B[39;00m \u001B[38;5;28mself\u001B[39m\u001B[38;5;241m.\u001B[39mhandles \u001B[38;5;129;01mis\u001B[39;00m \u001B[38;5;129;01mnot\u001B[39;00m \u001B[38;5;28;01mNone\u001B[39;00m\n\u001B[0;32m   1891\u001B[0m f \u001B[38;5;241m=\u001B[39m \u001B[38;5;28mself\u001B[39m\u001B[38;5;241m.\u001B[39mhandles\u001B[38;5;241m.\u001B[39mhandle\n",
      "File \u001B[1;32m~\\miniconda3\\Lib\\site-packages\\pandas\\io\\common.py:873\u001B[0m, in \u001B[0;36mget_handle\u001B[1;34m(path_or_buf, mode, encoding, compression, memory_map, is_text, errors, storage_options)\u001B[0m\n\u001B[0;32m    868\u001B[0m \u001B[38;5;28;01melif\u001B[39;00m \u001B[38;5;28misinstance\u001B[39m(handle, \u001B[38;5;28mstr\u001B[39m):\n\u001B[0;32m    869\u001B[0m     \u001B[38;5;66;03m# Check whether the filename is to be opened in binary mode.\u001B[39;00m\n\u001B[0;32m    870\u001B[0m     \u001B[38;5;66;03m# Binary mode does not support 'encoding' and 'newline'.\u001B[39;00m\n\u001B[0;32m    871\u001B[0m     \u001B[38;5;28;01mif\u001B[39;00m ioargs\u001B[38;5;241m.\u001B[39mencoding \u001B[38;5;129;01mand\u001B[39;00m \u001B[38;5;124m\"\u001B[39m\u001B[38;5;124mb\u001B[39m\u001B[38;5;124m\"\u001B[39m \u001B[38;5;129;01mnot\u001B[39;00m \u001B[38;5;129;01min\u001B[39;00m ioargs\u001B[38;5;241m.\u001B[39mmode:\n\u001B[0;32m    872\u001B[0m         \u001B[38;5;66;03m# Encoding\u001B[39;00m\n\u001B[1;32m--> 873\u001B[0m         handle \u001B[38;5;241m=\u001B[39m \u001B[38;5;28;43mopen\u001B[39;49m\u001B[43m(\u001B[49m\n\u001B[0;32m    874\u001B[0m \u001B[43m            \u001B[49m\u001B[43mhandle\u001B[49m\u001B[43m,\u001B[49m\n\u001B[0;32m    875\u001B[0m \u001B[43m            \u001B[49m\u001B[43mioargs\u001B[49m\u001B[38;5;241;43m.\u001B[39;49m\u001B[43mmode\u001B[49m\u001B[43m,\u001B[49m\n\u001B[0;32m    876\u001B[0m \u001B[43m            \u001B[49m\u001B[43mencoding\u001B[49m\u001B[38;5;241;43m=\u001B[39;49m\u001B[43mioargs\u001B[49m\u001B[38;5;241;43m.\u001B[39;49m\u001B[43mencoding\u001B[49m\u001B[43m,\u001B[49m\n\u001B[0;32m    877\u001B[0m \u001B[43m            \u001B[49m\u001B[43merrors\u001B[49m\u001B[38;5;241;43m=\u001B[39;49m\u001B[43merrors\u001B[49m\u001B[43m,\u001B[49m\n\u001B[0;32m    878\u001B[0m \u001B[43m            \u001B[49m\u001B[43mnewline\u001B[49m\u001B[38;5;241;43m=\u001B[39;49m\u001B[38;5;124;43m\"\u001B[39;49m\u001B[38;5;124;43m\"\u001B[39;49m\u001B[43m,\u001B[49m\n\u001B[0;32m    879\u001B[0m \u001B[43m        \u001B[49m\u001B[43m)\u001B[49m\n\u001B[0;32m    880\u001B[0m     \u001B[38;5;28;01melse\u001B[39;00m:\n\u001B[0;32m    881\u001B[0m         \u001B[38;5;66;03m# Binary mode\u001B[39;00m\n\u001B[0;32m    882\u001B[0m         handle \u001B[38;5;241m=\u001B[39m \u001B[38;5;28mopen\u001B[39m(handle, ioargs\u001B[38;5;241m.\u001B[39mmode)\n",
      "\u001B[1;31mFileNotFoundError\u001B[0m: [Errno 2] No such file or directory: 'raw_salary_compile/combined_salary_2.csv'"
     ]
    }
   ],
   "execution_count": 12
  }
 ],
 "metadata": {
  "kernelspec": {
   "display_name": "Python 3",
   "language": "python",
   "name": "python3"
  },
  "language_info": {
   "codemirror_mode": {
    "name": "ipython",
    "version": 2
   },
   "file_extension": ".py",
   "mimetype": "text/x-python",
   "name": "python",
   "nbconvert_exporter": "python",
   "pygments_lexer": "ipython2",
   "version": "2.7.6"
  }
 },
 "nbformat": 4,
 "nbformat_minor": 5
}
