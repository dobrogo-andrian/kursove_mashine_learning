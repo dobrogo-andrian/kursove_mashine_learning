{
 "cells": [
  {
   "cell_type": "markdown",
   "id": "89bdd08aee932145",
   "metadata": {},
   "source": [
    "## Курсова машін льорнінінг"
   ]
  },
  {
   "cell_type": "markdown",
   "id": "3bbb6a73d5bceca",
   "metadata": {},
   "source": [
    "### Data loading"
   ]
  },
  {
   "cell_type": "markdown",
   "id": "d977c4c52efe05",
   "metadata": {},
   "source": [
    "#### imports"
   ]
  },
  {
   "cell_type": "code",
   "id": "53b8b183f6a922c7",
   "metadata": {
    "ExecuteTime": {
     "end_time": "2025-05-16T08:21:16.276489Z",
     "start_time": "2025-05-16T08:21:16.257589Z"
    }
   },
   "source": [
    "import re\n",
    "import csv\n",
    "import os\n",
    "import pandas as pd\n",
    "import pandasql as ps\n",
    "from helpers import get_next_filename \n"
   ],
   "outputs": [],
   "execution_count": 25
  },
  {
   "cell_type": "markdown",
   "id": "929318c13dd08f20",
   "metadata": {},
   "source": [
    "#### functions"
   ]
  },
  {
   "cell_type": "code",
   "id": "1658dfe9c7de9d30",
   "metadata": {
    "ExecuteTime": {
     "end_time": "2025-05-16T08:21:16.304749Z",
     "start_time": "2025-05-16T08:21:16.279141Z"
    }
   },
   "source": [
    "def standardize_columns(df, column_mapping):\n",
    "    \"\"\"\n",
    "    Standardize column names based on a mapping dictionary.\n",
    "    :param df: DataFrame with raw data.\n",
    "    :param column_mapping: Dictionary where keys are possible column names and values are standardized names.\n",
    "    :return: DataFrame with standardized column names.\n",
    "    \"\"\"\n",
    "    standardized_columns = {}\n",
    "    for col in df.columns:\n",
    "        standardized_columns[col] = column_mapping.get(col, col)\n",
    "    \n",
    "    df.rename(columns=standardized_columns, inplace=True)\n",
    "    return df\n",
    "\n",
    "def detect_csv_format(file_path):\n",
    "    \"\"\"\n",
    "    Automatically detect the format of a CSV file (delimiter, quotechar, etc.).\n",
    "    :param file_path: Path to the CSV file.\n",
    "    :return: Dictionary with parameters for reading the file.\n",
    "    \"\"\"\n",
    "    try:\n",
    "        with open(file_path, 'r', encoding='utf-8') as f:\n",
    "            sample = f.read(1024) \n",
    "            sniffer = csv.Sniffer()\n",
    "            dialect = sniffer.sniff(sample)\n",
    "            return {\n",
    "                'delimiter': dialect.delimiter,\n",
    "                'quotechar': dialect.quotechar\n",
    "            }\n",
    "    except Exception as e:\n",
    "        print(f\"Failed to detect the format of the file {file_path}: {e}\")\n",
    "        # Return fallback delimiters in order of likelihood\n",
    "        return {'delimiter': ';', 'quotechar': '\"'}\n",
    "\n",
    "\n",
    "def process_salary_data(input_folder, output_file):\n",
    "    \"\"\"\n",
    "    Processes all salary files, standardizes columns, adds the period (half-year), and combines them into one dataset.\n",
    "    :param input_folder: Path to the folder with input files.\n",
    "    :param output_file: Path to the output CSV file.\n",
    "    \"\"\"\n",
    "    combined_data = []\n",
    "\n",
    "    column_mapping = {\n",
    "        \"Зарплата / дохід в ІТ у $$$ за місяць, лише ставка після сплати податків\": \"salary\",\n",
    "        \"Зарплата\": \"salary\",\n",
    "        \"Salary\": \"salary\",\n",
    "        \"salary\": \"salary\",\n",
    "        \"Зарплата в месяц\": \"salary\",\n",
    "        \"Зарплата за місяць, net, після податків\": \"salary\",\n",
    "        \"Зарплата у $$$ за місяць, лише ставка після сплати податків\": \"salary\",\n",
    "        \"Чи отримуєте ви грошові бонуси до зарплати?\": \"bonuses flag\",\n",
    "        \"Вкажіть суму цього бонуса у $$$ після податків\": \"bonuses amount\",\n",
    "        \"Зарплата.в.месяц\": \"salary\",\n",
    "        \"Вкажіть суму цього бонуса у  після податків\": \"bonuses amount\",\n",
    "        \"Зарплата / дохід у $$$ за місяць, лише ставка ЧИСТИМИ - після сплати податків\": \"salary\",\n",
    "        \"Зарплата / дохід в IT у $$$ за місяць\": \"salary\",\n",
    "        \"\"\"Зарплата / дохід в ІТ у $$$ за місяць, лише ставка \n",
    "ЧИСТИМИ - після сплати податків\"\"\": \"salary\",\n",
    "        \"Зарплата / дохід у $$$ за місяць, лише ставка після сплати податків\" : \"salary\",\n",
    "        \"\"\"Зарплата / дохід у $$$ за місяць, лише ставка \n",
    "ЧИСТИМИ - після сплати податків\"\"\": \"salary\",\n",
    "    \"\"\"\\\"Зарплата / дохід у $$$ за місяць, лише ставка \n",
    "ЧИСТИМИ - після сплати податків\",Оберіть вашу основну посаду\"\"\": \"salary\",\n",
    "        \"\"\"Зарплата / дохід в IT у $$$ за місяць, лише ставка \n",
    "ЧИСТИМИ - після сплати податків\"\"\": \"salary\",\n",
    "        \n",
    "\n",
    "\n",
    "\n",
    "        \n",
    "        \"Должность\": \"position\",\n",
    "        \"Оберіть вашу основну посаду\": \"position\",\n",
    "        \"Оберіть вашу посаду\": \"position\",\n",
    "        \"Посада\": \"position\",\n",
    "        \"Position\": \"position\",\n",
    "        \"position\": \"position\",\n",
    "        \"Спеціалізація\": \"position\",\n",
    "        \n",
    "        \n",
    "        \"Ваш тайтл на цій посаді\": \"seniority\",\n",
    "        \"Оберіть ваш тайтл або роль у компанії\": \"seniority\",\n",
    "        \"Общий опыт работы\": \"general experience seniority\",\n",
    "        \"Опыт работы на текущем месте\": \"local experience seniority\",\n",
    "        \"Загальний стаж роботи за спеціальністю\": \"general experience seniority\",\n",
    "        \"Стаж на поточному місці роботи\": \"local experience seniority\",\n",
    "        \"Ваш тайтл\": \"seniority\",\n",
    "        \"exp\": \"general experience seniority\",\n",
    "        \"current_job_exp\": \"local experience seniority\",\n",
    "        \"experience\": \"general experience seniority\",\n",
    "        \n",
    "        \n",
    "        \"freq\": \"frequency\"\n",
    "    }\n",
    "\n",
    "    input_files = [f for f in os.listdir(input_folder) if f.endswith('.csv')]\n",
    "    input_files = sorted(input_files, key=lambda x: int(re.search(r'\\d+', x).group()))\n",
    "\n",
    "    for input_file in input_files:\n",
    "        match = re.search(r'(\\d{4})_(\\w+)_.*\\.csv', input_file)\n",
    "        if not match:\n",
    "            print(f\"Skipping file {input_file}: Could not determine year and month.\")\n",
    "            continue\n",
    "        \n",
    "        year, month = match.groups()\n",
    "        year = int(year)\n",
    "        \n",
    "        if month.lower() in ['jan', 'feb', 'mar', 'apr', 'may', 'jun', 'june']:\n",
    "            half_year = f\"{year}_H1\"\n",
    "        else:\n",
    "            half_year = f\"{year}_H2\"\n",
    "\n",
    "        file_path = os.path.join(input_folder, input_file)\n",
    "        try:\n",
    "            if (half_year == \"2021_H2\" or half_year == \"2022_H2\" or half_year == \"2023_H1\"):\n",
    "                csv_format ={'delimiter': ';', 'quotechar': '\"'}\n",
    "            else: \n",
    "                csv_format = detect_csv_format(file_path)  \n",
    "                \n",
    "            df = pd.read_csv(file_path, on_bad_lines='skip', **csv_format)\n",
    "            if (half_year == \"2021_H1\"):\n",
    "                df.rename(columns={\"Загальний стаж роботи за спеціальністю\": \"general_experience\"}, inplace=True)\n",
    "                \n",
    "            if (half_year == \"2022_H1\"):\n",
    "                df = df[~((df[\"city\"] == \"Всі міста\") | (df[\"experience\"] == \"Весь досвід\"))]\n",
    "\n",
    "            df.dropna(how='all', inplace=True)\n",
    "\n",
    "            df = standardize_columns(df, column_mapping)\n",
    "\n",
    "            df['period'] = half_year\n",
    "            combined_data.append(df)\n",
    "        except Exception as e:\n",
    "            print(f\"Error reading file {input_file}: {e}\")\n",
    "            continue\n",
    "\n",
    "    # Combine all DataFrames into one\n",
    "    combined_df = pd.concat(combined_data, ignore_index=True)\n",
    "\n",
    "    # Select only the required columns\n",
    "    final_columns = ['period', 'position', \"seniority\", \"general experience seniority\",\n",
    "                     \"local experience seniority\", 'salary', \"bonuses flag\", \"bonuses amount\", \"frequency\"]\n",
    "    combined_df = combined_df[final_columns]\n",
    "\n",
    "    # Save the combined dataset to a file\n",
    "    combined_df.to_csv(output_file, index=False)\n",
    "    print(f\"Final dataset saved to: {output_file}\")\n"
   ],
   "outputs": [],
   "execution_count": 26
  },
  {
   "cell_type": "markdown",
   "id": "3438a8c2e313ecf9",
   "metadata": {},
   "source": [
    "#### variables "
   ]
  },
  {
   "cell_type": "code",
   "id": "d2cff21db76db249",
   "metadata": {
    "ExecuteTime": {
     "end_time": "2025-05-16T08:21:16.309833Z",
     "start_time": "2025-05-16T08:21:16.305749Z"
    }
   },
   "source": [
    "input_folder = \"unprocessed_salary\"\n",
    "output_folder = \"raw_salary_compile\" "
   ],
   "outputs": [],
   "execution_count": 27
  },
  {
   "cell_type": "markdown",
   "id": "db258fa06e25eaf",
   "metadata": {},
   "source": [
    "#### main script"
   ]
  },
  {
   "cell_type": "code",
   "id": "90f4eed3c717ad7f",
   "metadata": {
    "ExecuteTime": {
     "end_time": "2025-05-16T08:21:18.172363Z",
     "start_time": "2025-05-16T08:21:16.310834Z"
    }
   },
   "source": [
    "output_path = get_next_filename(\"combined_salary\", output_folder)\n",
    "\n",
    "print(f\"Обробляємо файли: {input_folder}\\\\\")\n",
    "process_salary_data(input_folder, output_path)\n",
    "print(f\"Результат збережено в: {output_path}\")"
   ],
   "outputs": [
    {
     "name": "stdout",
     "output_type": "stream",
     "text": [
      "Обробляємо файли: unprocessed_salary\\\n",
      "Final dataset saved to: raw_salary_compile\\combined_salary_1.csv\n",
      "Результат збережено в: raw_salary_compile\\combined_salary_1.csv\n"
     ]
    }
   ],
   "execution_count": 28
  }
 ],
 "metadata": {
  "kernelspec": {
   "display_name": "myenv",
   "language": "python",
   "name": "python3"
  },
  "language_info": {
   "codemirror_mode": {
    "name": "ipython",
    "version": 3
   },
   "file_extension": ".py",
   "mimetype": "text/x-python",
   "name": "python",
   "nbconvert_exporter": "python",
   "pygments_lexer": "ipython3",
   "version": "3.11.2"
  }
 },
 "nbformat": 4,
 "nbformat_minor": 5
}
