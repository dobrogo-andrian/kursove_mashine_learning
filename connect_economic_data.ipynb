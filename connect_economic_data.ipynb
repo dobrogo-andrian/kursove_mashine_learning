{
 "cells": [
  {
   "metadata": {},
   "cell_type": "markdown",
   "source": "## connect economic data",
   "id": "ebcde6e8fe2df15c"
  },
  {
   "metadata": {},
   "cell_type": "markdown",
   "source": "##### imports",
   "id": "130aa84411cf6194"
  },
  {
   "metadata": {
    "ExecuteTime": {
     "end_time": "2025-05-13T12:45:42.658092Z",
     "start_time": "2025-05-13T12:45:42.654575Z"
    }
   },
   "cell_type": "code",
   "source": [
    "import pandas as pd\n",
    "import os\n",
    "from matplotlib import pyplot as plt\n",
    "import pandasql as ps"
   ],
   "id": "98475e6f1cd1152e",
   "outputs": [],
   "execution_count": 46
  },
  {
   "metadata": {},
   "cell_type": "markdown",
   "source": "#### functions",
   "id": "1cff7b6954621b46"
  },
  {
   "cell_type": "code",
   "id": "initial_id",
   "metadata": {
    "collapsed": true,
    "ExecuteTime": {
     "end_time": "2025-05-13T12:45:42.683660Z",
     "start_time": "2025-05-13T12:45:42.679181Z"
    }
   },
   "source": [
    "def get_next_filename(base_filename, folder):\n",
    "    \"\"\"\n",
    "    Генерує унікальну назву файлу, додаючи +1 до номера.\n",
    "    \"\"\"\n",
    "    if not os.path.exists(folder):\n",
    "        os.makedirs(folder)\n",
    "\n",
    "    files = os.listdir(folder)\n",
    "\n",
    "    matching_files = [f for f in files if f.startswith(base_filename) and f.endswith(\".csv\")]\n",
    "\n",
    "    max_number = 0\n",
    "    for file in matching_files:\n",
    "        try:\n",
    "            number = int(file.replace(base_filename, \"\").replace(\".csv\", \"\").strip(\"_\"))\n",
    "            if number > max_number:\n",
    "                max_number = number\n",
    "        except ValueError:\n",
    "            continue\n",
    "\n",
    "    next_number = max_number + 1\n",
    "    return os.path.join(folder, f\"{base_filename}_{next_number}.csv\")"
   ],
   "outputs": [],
   "execution_count": 47
  },
  {
   "metadata": {},
   "cell_type": "markdown",
   "source": "#### variables",
   "id": "281eb07a9300bdf3"
  },
  {
   "metadata": {
    "ExecuteTime": {
     "end_time": "2025-05-13T12:45:42.704243Z",
     "start_time": "2025-05-13T12:45:42.700513Z"
    }
   },
   "cell_type": "code",
   "source": [
    "input_path = \"filtered_dataset/filtered_dataset_1.csv\"\n",
    "output_folder = \"connnected_economic_data\" "
   ],
   "id": "dee3ba20526b7aa5",
   "outputs": [],
   "execution_count": 48
  },
  {
   "metadata": {},
   "cell_type": "markdown",
   "source": "#### main function",
   "id": "310a6762d67a8d43"
  },
  {
   "metadata": {
    "ExecuteTime": {
     "end_time": "2025-05-13T12:45:42.780304Z",
     "start_time": "2025-05-13T12:45:42.710755Z"
    }
   },
   "cell_type": "code",
   "source": [
    "output_path = get_next_filename(\"connnected_economic_data\", output_folder)\n",
    "# Завантаження основного датасету\n",
    "# Завантаження основного датасету\n",
    "# Завантаження основного датасету\n",
    "# Завантаження основного датасету\n",
    "# Завантаження основного датасету\n",
    "df = pd.read_csv(input_path, low_memory=False)  # Завантаження основного датасету\n",
    "\n",
    "# Обчислення середньої зарплати для кожної категорії\n",
    "result = df.groupby(['period', 'final_seniority'])['final_salary'].mean().reset_index()\n",
    "\n",
    "# Перейменування колонки для середньої зарплати\n",
    "result.rename(columns={'final_salary': 'average_salary'}, inplace=True)\n",
    "\n",
    "# Завантаження другого датасету (індекс споживчих цін)\n",
    "yearly_data = pd.read_csv(\"economical_data/індекс_споживчих_цін.csv\", low_memory=False, delimiter=';')\n",
    "\n",
    "# Ділення значень індексу споживчих цін на 100\n",
    "columns_to_divide = ['January', 'February', 'March', 'April', 'May', 'June',\n",
    "                     'July', 'August', 'September', 'October', 'November', 'December']\n",
    "yearly_data[columns_to_divide] = yearly_data[columns_to_divide] / 100\n",
    "\n",
    "# Обчислення добутків для H1 (січень-червень) і H2 (липень-грудень)\n",
    "yearly_data['H1'] = yearly_data[['January', 'February', 'March', 'April', 'May', 'June']].prod(axis=1)\n",
    "yearly_data['H2'] = yearly_data[['July', 'August', 'September', 'October', 'November', 'December']].prod(axis=1)\n",
    "\n",
    "# Перетворення у формат для приєднання\n",
    "yearly_data_long = yearly_data.melt(id_vars=['Year'], value_vars=['H1', 'H2'], var_name='Half', value_name='consumer price index')\n",
    "yearly_data_long['period'] = yearly_data_long['Year'].astype(str) + '_' + yearly_data_long['Half']\n",
    "\n",
    "# Приєднання до основного датасету\n",
    "merged_data = pd.merge(result, yearly_data_long[['period', 'consumer price index']], on='period', how='left')\n",
    "\n",
    "# Завантаження даних про дохід населення\n",
    "income_data = pd.read_csv(\"economical_data/дохід_населення.csv\", delimiter=';')\n",
    "\n",
    "# Дублювання даних про дохід населення для кожного півріччя\n",
    "income_data_long = income_data.loc[income_data.index.repeat(2)].reset_index(drop=True)  # Повторюємо кожен рядок двічі\n",
    "income_data_long['Half'] = ['H1', 'H2'] * (len(income_data))  # Додаємо H1 і H2 для кожного року\n",
    "income_data_long['period'] = income_data_long['Year'].astype(str) + '_' + income_data_long['Half']\n",
    "\n",
    "# Додавання колонки \"income of the population\"\n",
    "income_data_long = income_data_long.rename(columns={'Disposable income per capita, UAH': 'income of the population'})\n",
    "\n",
    "# Приєднання даних про дохід населення до основного датасету\n",
    "merged_data = pd.merge(merged_data, income_data_long[['period', 'income of the population']], on='period', how='left')\n",
    "\n",
    "# Завантаження даних про ВВП\n",
    "gdp_data = pd.read_csv(\"economical_data/ввп.csv\", delimiter=';')\n",
    "\n",
    "# Видалення зайвих пробілів у назвах колонок\n",
    "gdp_data.columns = gdp_data.columns.str.strip()\n",
    "\n",
    "# Дублювання даних про ВВП для кожного півріччя\n",
    "gdp_data_long = gdp_data.loc[gdp_data.index.repeat(2)].reset_index(drop=True)  # Повторюємо кожен рядок двічі\n",
    "gdp_data_long['Half'] = ['H1', 'H2'] * (len(gdp_data))  # Додаємо H1 і H2 для кожного року\n",
    "gdp_data_long['period'] = gdp_data_long['Year'].astype(str) + '_' + gdp_data_long['Half']\n",
    "\n",
    "# Додавання колонок про ВВП\n",
    "gdp_data_long = gdp_data_long.rename(columns={\n",
    "    'Gross regional product (mln UAH)': 'gross regional product',\n",
    "    'Volume indices of gross regional product (percent)': 'volume indices of gross regional product',\n",
    "    'Per capita gross regional product (UAH)': 'per capita gross regional product'\n",
    "})\n",
    "\n",
    "\n",
    "# Приєднання даних про ВВП до основного датасету\n",
    "final_data = pd.merge(merged_data, gdp_data_long[['period', 'gross regional product', 'volume indices of gross regional product', 'per capita gross regional product']], on='period', how='left')\n",
    "# Завантаження даних про пошукові запити\n",
    "google_search_data = pd.read_csv(\"economical_data/google_search_in_ukraine.csv\", delimiter=',')\n",
    "\n",
    "# Перейменування колонок для зручності\n",
    "google_search_data.columns = ['Month', 'search_count']\n",
    "\n",
    "# Перетворення колонки \"Month\" на формат datetime\n",
    "google_search_data['Month'] = pd.to_datetime(google_search_data['Month'], format='%Y-%m')\n",
    "\n",
    "# Додавання колонок \"Year\" і \"Half\" (півріччя)\n",
    "google_search_data['Year'] = google_search_data['Month'].dt.year\n",
    "google_search_data['Half'] = google_search_data['Month'].dt.month.apply(lambda x: 'H1' if x <= 6 else 'H2')\n",
    "\n",
    "# Групування даних за роком і півріччям, обчислення суми пошуків\n",
    "google_search_data_grouped = google_search_data.groupby(['Year', 'Half'])['search_count'].sum().reset_index()\n",
    "\n",
    "# Створення колонки \"period\" у форматі YYYY_H1 або YYYY_H2\n",
    "google_search_data_grouped['period'] = google_search_data_grouped['Year'].astype(str) + '_' + google_search_data_grouped['Half']\n",
    "\n",
    "# Додавання колонки google_search_for_data_science\n",
    "google_search_data_grouped = google_search_data_grouped.rename(columns={'search_count': 'google_search_for_data_science'})\n",
    "\n",
    "# Приєднання даних про пошукові запити до основного датасету\n",
    "final_data = pd.merge(final_data, google_search_data_grouped[['period', 'google_search_for_data_science']], on='period', how='left')\n",
    "\n",
    "# Завантаження даних про споживчі витрати\n",
    "expenditure_data = pd.read_csv(\"economical_data/dataset_2025-05-10T16_10_45.267670971Z_DEFAULT_INTEGRATION_IMF.STA_QNEA_7.0.0.csv\")\n",
    "\n",
    "# Перевіримо структуру даних\n",
    "print(\"Перші кілька рядків даних:\")\n",
    "print(expenditure_data.head())\n",
    "\n",
    "# Фільтруємо дані для країни \"Ukraine\" та показника \"Final consumption expenditure\"\n",
    "expenditure_data = expenditure_data[(expenditure_data['COUNTRY'] == 'Ukraine') & \n",
    "                                     (expenditure_data['INDICATOR'] == 'Final consumption expenditure')]\n",
    "\n",
    "# Перетворення TIME_PERIOD на формат року і кварталу\n",
    "expenditure_data[['Year', 'Quarter']] = expenditure_data['TIME_PERIOD'].str.split('-Q', expand=True)\n",
    "\n",
    "# Видалення рядків з NaN у колонках Year та Quarter\n",
    "expenditure_data = expenditure_data.dropna(subset=['Year', 'Quarter'])\n",
    "\n",
    "# Перетворення колонок Year та Quarter на тип int\n",
    "expenditure_data['Year'] = expenditure_data['Year'].astype(int)\n",
    "expenditure_data['Quarter'] = expenditure_data['Quarter'].astype(int)\n",
    "\n",
    "# Додавання колонки \"Half\" (півріччя)\n",
    "expenditure_data['Half'] = expenditure_data['Quarter'].apply(lambda x: 'H1' if x <= 2 else 'H2')\n",
    "\n",
    "# Групування даних за роком і півріччям, обчислення суми витрат\n",
    "expenditure_data_grouped = expenditure_data.groupby(['Year', 'Half'])['OBS_VALUE'].sum().reset_index()\n",
    "\n",
    "# Створення колонки \"period\" у форматі YYYY_H1 або YYYY_H2\n",
    "expenditure_data_grouped['period'] = expenditure_data_grouped['Year'].astype(str) + '_' + expenditure_data_grouped['Half']\n",
    "\n",
    "# Додавання колонки про споживчі витрати\n",
    "expenditure_data_grouped = expenditure_data_grouped.rename(columns={'OBS_VALUE': 'final_consumption_expenditure'})\n",
    "\n",
    "# Приєднання даних про споживчі витрати до основного датасету\n",
    "final_data = pd.merge(final_data, expenditure_data_grouped[['period', 'final_consumption_expenditure']], on='period', how='left')\n",
    "\n",
    "# Витягуємо рік із колонки \"period\" і додаємо як окрему колонку\n",
    "final_data['Year'] = final_data['period'].str.extract(r'(\\d{4})').astype(int)\n",
    "\n",
    "# Фільтруємо дані, залишаючи лише рядки, де рік менший за 2021\n",
    "filtered_data = final_data[final_data['Year'] < 2021]\n",
    "\n",
    "# Видаляємо допоміжну колонку \"Year\", якщо вона більше не потрібна\n",
    "filtered_data = filtered_data.drop(columns=['Year'])\n",
    "\n",
    "# Збереження результату у новий CSV-файл\n",
    "filtered_data.to_csv(output_path, index=False)\n",
    "\n"
   ],
   "id": "2b947236b2e84a3",
   "outputs": [
    {
     "name": "stdout",
     "output_type": "stream",
     "text": [
      "Перші кілька рядків даних:\n",
      "   COUNTRY                      INDICATOR       PRICE_TYPE  \\\n",
      "0  Ukraine  Final consumption expenditure  Constant prices   \n",
      "1  Ukraine  Final consumption expenditure  Constant prices   \n",
      "2  Ukraine  Final consumption expenditure  Constant prices   \n",
      "3  Ukraine  Final consumption expenditure  Constant prices   \n",
      "4  Ukraine  Final consumption expenditure  Constant prices   \n",
      "\n",
      "               S_ADJUSTMENT TYPE_OF_TRANSFORMATION  FREQUENCY TIME_PERIOD  \\\n",
      "0  Seasonally adjusted (SA)      Domestic currency  Quarterly     2016-Q1   \n",
      "1  Seasonally adjusted (SA)      Domestic currency  Quarterly     2016-Q2   \n",
      "2  Seasonally adjusted (SA)      Domestic currency  Quarterly     2016-Q3   \n",
      "3  Seasonally adjusted (SA)      Domestic currency  Quarterly     2016-Q4   \n",
      "4  Seasonally adjusted (SA)      Domestic currency  Quarterly     2017-Q1   \n",
      "\n",
      "      OBS_VALUE  SCALE  \n",
      "0  5.036320e+11    NaN  \n",
      "1  5.005890e+11    NaN  \n",
      "2  5.109330e+11    NaN  \n",
      "3  5.171740e+11    NaN  \n",
      "4  5.415790e+11    NaN  \n"
     ]
    }
   ],
   "execution_count": 49
  },
  {
   "metadata": {
    "ExecuteTime": {
     "end_time": "2025-05-13T12:45:42.864051Z",
     "start_time": "2025-05-13T12:45:42.781336Z"
    }
   },
   "cell_type": "code",
   "source": [
    "data = pd.read_csv(\"connnected_economic_data/connnected_economic_data_8.csv\", low_memory=False)\n",
    "# Перетворення періоду на числовий формат для коректного сортування\n",
    "data['period_numeric'] = data['period'].str.replace('_H1', '.1').str.replace('_H2', '.2').astype(float)\n",
    "\n",
    "# Побудова графіків\n",
    "plt.figure(figsize=(12, 6))\n",
    "\n",
    "# Фільтрування даних для кожної категорії сеньйорності\n",
    "for seniority in ['junior', 'middle', 'senior']:\n",
    "    subset = data[data['final_seniority'] == seniority]\n",
    "    plt.plot(subset['period_numeric'], subset['average_salary'], marker='o', label=seniority)\n",
    "\n",
    "# Налаштування графіка\n",
    "plt.title('Середня зарплата за категоріями сеньйорності по періодах', fontsize=14)\n",
    "plt.xlabel('Період (рік)', fontsize=12)\n",
    "plt.ylabel('Середня зарплата (UAH)', fontsize=12)\n",
    "plt.xticks(data['period_numeric'].unique(), data['period'].unique(), rotation=45)\n",
    "plt.legend(title='Сеньйорність')\n",
    "plt.grid(True)\n",
    "\n",
    "# Показати графік\n",
    "plt.tight_layout()\n",
    "plt.show()"
   ],
   "id": "1c1444a631eba862",
   "outputs": [
    {
     "ename": "FileNotFoundError",
     "evalue": "[Errno 2] No such file or directory: 'connnected_economic_data/connnected_economic_data_8.csv'",
     "output_type": "error",
     "traceback": [
      "\u001B[1;31m---------------------------------------------------------------------------\u001B[0m",
      "\u001B[1;31mFileNotFoundError\u001B[0m                         Traceback (most recent call last)",
      "Cell \u001B[1;32mIn[50], line 1\u001B[0m\n\u001B[1;32m----> 1\u001B[0m data \u001B[38;5;241m=\u001B[39m \u001B[43mpd\u001B[49m\u001B[38;5;241;43m.\u001B[39;49m\u001B[43mread_csv\u001B[49m\u001B[43m(\u001B[49m\u001B[38;5;124;43m\"\u001B[39;49m\u001B[38;5;124;43mconnnected_economic_data/connnected_economic_data_8.csv\u001B[39;49m\u001B[38;5;124;43m\"\u001B[39;49m\u001B[43m,\u001B[49m\u001B[43m \u001B[49m\u001B[43mlow_memory\u001B[49m\u001B[38;5;241;43m=\u001B[39;49m\u001B[38;5;28;43;01mFalse\u001B[39;49;00m\u001B[43m)\u001B[49m\n\u001B[0;32m      2\u001B[0m \u001B[38;5;66;03m# Перетворення періоду на числовий формат для коректного сортування\u001B[39;00m\n\u001B[0;32m      3\u001B[0m data[\u001B[38;5;124m'\u001B[39m\u001B[38;5;124mperiod_numeric\u001B[39m\u001B[38;5;124m'\u001B[39m] \u001B[38;5;241m=\u001B[39m data[\u001B[38;5;124m'\u001B[39m\u001B[38;5;124mperiod\u001B[39m\u001B[38;5;124m'\u001B[39m]\u001B[38;5;241m.\u001B[39mstr\u001B[38;5;241m.\u001B[39mreplace(\u001B[38;5;124m'\u001B[39m\u001B[38;5;124m_H1\u001B[39m\u001B[38;5;124m'\u001B[39m, \u001B[38;5;124m'\u001B[39m\u001B[38;5;124m.1\u001B[39m\u001B[38;5;124m'\u001B[39m)\u001B[38;5;241m.\u001B[39mstr\u001B[38;5;241m.\u001B[39mreplace(\u001B[38;5;124m'\u001B[39m\u001B[38;5;124m_H2\u001B[39m\u001B[38;5;124m'\u001B[39m, \u001B[38;5;124m'\u001B[39m\u001B[38;5;124m.2\u001B[39m\u001B[38;5;124m'\u001B[39m)\u001B[38;5;241m.\u001B[39mastype(\u001B[38;5;28mfloat\u001B[39m)\n",
      "File \u001B[1;32m~\\miniconda3\\Lib\\site-packages\\pandas\\io\\parsers\\readers.py:1026\u001B[0m, in \u001B[0;36mread_csv\u001B[1;34m(filepath_or_buffer, sep, delimiter, header, names, index_col, usecols, dtype, engine, converters, true_values, false_values, skipinitialspace, skiprows, skipfooter, nrows, na_values, keep_default_na, na_filter, verbose, skip_blank_lines, parse_dates, infer_datetime_format, keep_date_col, date_parser, date_format, dayfirst, cache_dates, iterator, chunksize, compression, thousands, decimal, lineterminator, quotechar, quoting, doublequote, escapechar, comment, encoding, encoding_errors, dialect, on_bad_lines, delim_whitespace, low_memory, memory_map, float_precision, storage_options, dtype_backend)\u001B[0m\n\u001B[0;32m   1013\u001B[0m kwds_defaults \u001B[38;5;241m=\u001B[39m _refine_defaults_read(\n\u001B[0;32m   1014\u001B[0m     dialect,\n\u001B[0;32m   1015\u001B[0m     delimiter,\n\u001B[1;32m   (...)\u001B[0m\n\u001B[0;32m   1022\u001B[0m     dtype_backend\u001B[38;5;241m=\u001B[39mdtype_backend,\n\u001B[0;32m   1023\u001B[0m )\n\u001B[0;32m   1024\u001B[0m kwds\u001B[38;5;241m.\u001B[39mupdate(kwds_defaults)\n\u001B[1;32m-> 1026\u001B[0m \u001B[38;5;28;01mreturn\u001B[39;00m \u001B[43m_read\u001B[49m\u001B[43m(\u001B[49m\u001B[43mfilepath_or_buffer\u001B[49m\u001B[43m,\u001B[49m\u001B[43m \u001B[49m\u001B[43mkwds\u001B[49m\u001B[43m)\u001B[49m\n",
      "File \u001B[1;32m~\\miniconda3\\Lib\\site-packages\\pandas\\io\\parsers\\readers.py:620\u001B[0m, in \u001B[0;36m_read\u001B[1;34m(filepath_or_buffer, kwds)\u001B[0m\n\u001B[0;32m    617\u001B[0m _validate_names(kwds\u001B[38;5;241m.\u001B[39mget(\u001B[38;5;124m\"\u001B[39m\u001B[38;5;124mnames\u001B[39m\u001B[38;5;124m\"\u001B[39m, \u001B[38;5;28;01mNone\u001B[39;00m))\n\u001B[0;32m    619\u001B[0m \u001B[38;5;66;03m# Create the parser.\u001B[39;00m\n\u001B[1;32m--> 620\u001B[0m parser \u001B[38;5;241m=\u001B[39m \u001B[43mTextFileReader\u001B[49m\u001B[43m(\u001B[49m\u001B[43mfilepath_or_buffer\u001B[49m\u001B[43m,\u001B[49m\u001B[43m \u001B[49m\u001B[38;5;241;43m*\u001B[39;49m\u001B[38;5;241;43m*\u001B[39;49m\u001B[43mkwds\u001B[49m\u001B[43m)\u001B[49m\n\u001B[0;32m    622\u001B[0m \u001B[38;5;28;01mif\u001B[39;00m chunksize \u001B[38;5;129;01mor\u001B[39;00m iterator:\n\u001B[0;32m    623\u001B[0m     \u001B[38;5;28;01mreturn\u001B[39;00m parser\n",
      "File \u001B[1;32m~\\miniconda3\\Lib\\site-packages\\pandas\\io\\parsers\\readers.py:1620\u001B[0m, in \u001B[0;36mTextFileReader.__init__\u001B[1;34m(self, f, engine, **kwds)\u001B[0m\n\u001B[0;32m   1617\u001B[0m     \u001B[38;5;28mself\u001B[39m\u001B[38;5;241m.\u001B[39moptions[\u001B[38;5;124m\"\u001B[39m\u001B[38;5;124mhas_index_names\u001B[39m\u001B[38;5;124m\"\u001B[39m] \u001B[38;5;241m=\u001B[39m kwds[\u001B[38;5;124m\"\u001B[39m\u001B[38;5;124mhas_index_names\u001B[39m\u001B[38;5;124m\"\u001B[39m]\n\u001B[0;32m   1619\u001B[0m \u001B[38;5;28mself\u001B[39m\u001B[38;5;241m.\u001B[39mhandles: IOHandles \u001B[38;5;241m|\u001B[39m \u001B[38;5;28;01mNone\u001B[39;00m \u001B[38;5;241m=\u001B[39m \u001B[38;5;28;01mNone\u001B[39;00m\n\u001B[1;32m-> 1620\u001B[0m \u001B[38;5;28mself\u001B[39m\u001B[38;5;241m.\u001B[39m_engine \u001B[38;5;241m=\u001B[39m \u001B[38;5;28;43mself\u001B[39;49m\u001B[38;5;241;43m.\u001B[39;49m\u001B[43m_make_engine\u001B[49m\u001B[43m(\u001B[49m\u001B[43mf\u001B[49m\u001B[43m,\u001B[49m\u001B[43m \u001B[49m\u001B[38;5;28;43mself\u001B[39;49m\u001B[38;5;241;43m.\u001B[39;49m\u001B[43mengine\u001B[49m\u001B[43m)\u001B[49m\n",
      "File \u001B[1;32m~\\miniconda3\\Lib\\site-packages\\pandas\\io\\parsers\\readers.py:1880\u001B[0m, in \u001B[0;36mTextFileReader._make_engine\u001B[1;34m(self, f, engine)\u001B[0m\n\u001B[0;32m   1878\u001B[0m     \u001B[38;5;28;01mif\u001B[39;00m \u001B[38;5;124m\"\u001B[39m\u001B[38;5;124mb\u001B[39m\u001B[38;5;124m\"\u001B[39m \u001B[38;5;129;01mnot\u001B[39;00m \u001B[38;5;129;01min\u001B[39;00m mode:\n\u001B[0;32m   1879\u001B[0m         mode \u001B[38;5;241m+\u001B[39m\u001B[38;5;241m=\u001B[39m \u001B[38;5;124m\"\u001B[39m\u001B[38;5;124mb\u001B[39m\u001B[38;5;124m\"\u001B[39m\n\u001B[1;32m-> 1880\u001B[0m \u001B[38;5;28mself\u001B[39m\u001B[38;5;241m.\u001B[39mhandles \u001B[38;5;241m=\u001B[39m \u001B[43mget_handle\u001B[49m\u001B[43m(\u001B[49m\n\u001B[0;32m   1881\u001B[0m \u001B[43m    \u001B[49m\u001B[43mf\u001B[49m\u001B[43m,\u001B[49m\n\u001B[0;32m   1882\u001B[0m \u001B[43m    \u001B[49m\u001B[43mmode\u001B[49m\u001B[43m,\u001B[49m\n\u001B[0;32m   1883\u001B[0m \u001B[43m    \u001B[49m\u001B[43mencoding\u001B[49m\u001B[38;5;241;43m=\u001B[39;49m\u001B[38;5;28;43mself\u001B[39;49m\u001B[38;5;241;43m.\u001B[39;49m\u001B[43moptions\u001B[49m\u001B[38;5;241;43m.\u001B[39;49m\u001B[43mget\u001B[49m\u001B[43m(\u001B[49m\u001B[38;5;124;43m\"\u001B[39;49m\u001B[38;5;124;43mencoding\u001B[39;49m\u001B[38;5;124;43m\"\u001B[39;49m\u001B[43m,\u001B[49m\u001B[43m \u001B[49m\u001B[38;5;28;43;01mNone\u001B[39;49;00m\u001B[43m)\u001B[49m\u001B[43m,\u001B[49m\n\u001B[0;32m   1884\u001B[0m \u001B[43m    \u001B[49m\u001B[43mcompression\u001B[49m\u001B[38;5;241;43m=\u001B[39;49m\u001B[38;5;28;43mself\u001B[39;49m\u001B[38;5;241;43m.\u001B[39;49m\u001B[43moptions\u001B[49m\u001B[38;5;241;43m.\u001B[39;49m\u001B[43mget\u001B[49m\u001B[43m(\u001B[49m\u001B[38;5;124;43m\"\u001B[39;49m\u001B[38;5;124;43mcompression\u001B[39;49m\u001B[38;5;124;43m\"\u001B[39;49m\u001B[43m,\u001B[49m\u001B[43m \u001B[49m\u001B[38;5;28;43;01mNone\u001B[39;49;00m\u001B[43m)\u001B[49m\u001B[43m,\u001B[49m\n\u001B[0;32m   1885\u001B[0m \u001B[43m    \u001B[49m\u001B[43mmemory_map\u001B[49m\u001B[38;5;241;43m=\u001B[39;49m\u001B[38;5;28;43mself\u001B[39;49m\u001B[38;5;241;43m.\u001B[39;49m\u001B[43moptions\u001B[49m\u001B[38;5;241;43m.\u001B[39;49m\u001B[43mget\u001B[49m\u001B[43m(\u001B[49m\u001B[38;5;124;43m\"\u001B[39;49m\u001B[38;5;124;43mmemory_map\u001B[39;49m\u001B[38;5;124;43m\"\u001B[39;49m\u001B[43m,\u001B[49m\u001B[43m \u001B[49m\u001B[38;5;28;43;01mFalse\u001B[39;49;00m\u001B[43m)\u001B[49m\u001B[43m,\u001B[49m\n\u001B[0;32m   1886\u001B[0m \u001B[43m    \u001B[49m\u001B[43mis_text\u001B[49m\u001B[38;5;241;43m=\u001B[39;49m\u001B[43mis_text\u001B[49m\u001B[43m,\u001B[49m\n\u001B[0;32m   1887\u001B[0m \u001B[43m    \u001B[49m\u001B[43merrors\u001B[49m\u001B[38;5;241;43m=\u001B[39;49m\u001B[38;5;28;43mself\u001B[39;49m\u001B[38;5;241;43m.\u001B[39;49m\u001B[43moptions\u001B[49m\u001B[38;5;241;43m.\u001B[39;49m\u001B[43mget\u001B[49m\u001B[43m(\u001B[49m\u001B[38;5;124;43m\"\u001B[39;49m\u001B[38;5;124;43mencoding_errors\u001B[39;49m\u001B[38;5;124;43m\"\u001B[39;49m\u001B[43m,\u001B[49m\u001B[43m \u001B[49m\u001B[38;5;124;43m\"\u001B[39;49m\u001B[38;5;124;43mstrict\u001B[39;49m\u001B[38;5;124;43m\"\u001B[39;49m\u001B[43m)\u001B[49m\u001B[43m,\u001B[49m\n\u001B[0;32m   1888\u001B[0m \u001B[43m    \u001B[49m\u001B[43mstorage_options\u001B[49m\u001B[38;5;241;43m=\u001B[39;49m\u001B[38;5;28;43mself\u001B[39;49m\u001B[38;5;241;43m.\u001B[39;49m\u001B[43moptions\u001B[49m\u001B[38;5;241;43m.\u001B[39;49m\u001B[43mget\u001B[49m\u001B[43m(\u001B[49m\u001B[38;5;124;43m\"\u001B[39;49m\u001B[38;5;124;43mstorage_options\u001B[39;49m\u001B[38;5;124;43m\"\u001B[39;49m\u001B[43m,\u001B[49m\u001B[43m \u001B[49m\u001B[38;5;28;43;01mNone\u001B[39;49;00m\u001B[43m)\u001B[49m\u001B[43m,\u001B[49m\n\u001B[0;32m   1889\u001B[0m \u001B[43m\u001B[49m\u001B[43m)\u001B[49m\n\u001B[0;32m   1890\u001B[0m \u001B[38;5;28;01massert\u001B[39;00m \u001B[38;5;28mself\u001B[39m\u001B[38;5;241m.\u001B[39mhandles \u001B[38;5;129;01mis\u001B[39;00m \u001B[38;5;129;01mnot\u001B[39;00m \u001B[38;5;28;01mNone\u001B[39;00m\n\u001B[0;32m   1891\u001B[0m f \u001B[38;5;241m=\u001B[39m \u001B[38;5;28mself\u001B[39m\u001B[38;5;241m.\u001B[39mhandles\u001B[38;5;241m.\u001B[39mhandle\n",
      "File \u001B[1;32m~\\miniconda3\\Lib\\site-packages\\pandas\\io\\common.py:873\u001B[0m, in \u001B[0;36mget_handle\u001B[1;34m(path_or_buf, mode, encoding, compression, memory_map, is_text, errors, storage_options)\u001B[0m\n\u001B[0;32m    868\u001B[0m \u001B[38;5;28;01melif\u001B[39;00m \u001B[38;5;28misinstance\u001B[39m(handle, \u001B[38;5;28mstr\u001B[39m):\n\u001B[0;32m    869\u001B[0m     \u001B[38;5;66;03m# Check whether the filename is to be opened in binary mode.\u001B[39;00m\n\u001B[0;32m    870\u001B[0m     \u001B[38;5;66;03m# Binary mode does not support 'encoding' and 'newline'.\u001B[39;00m\n\u001B[0;32m    871\u001B[0m     \u001B[38;5;28;01mif\u001B[39;00m ioargs\u001B[38;5;241m.\u001B[39mencoding \u001B[38;5;129;01mand\u001B[39;00m \u001B[38;5;124m\"\u001B[39m\u001B[38;5;124mb\u001B[39m\u001B[38;5;124m\"\u001B[39m \u001B[38;5;129;01mnot\u001B[39;00m \u001B[38;5;129;01min\u001B[39;00m ioargs\u001B[38;5;241m.\u001B[39mmode:\n\u001B[0;32m    872\u001B[0m         \u001B[38;5;66;03m# Encoding\u001B[39;00m\n\u001B[1;32m--> 873\u001B[0m         handle \u001B[38;5;241m=\u001B[39m \u001B[38;5;28;43mopen\u001B[39;49m\u001B[43m(\u001B[49m\n\u001B[0;32m    874\u001B[0m \u001B[43m            \u001B[49m\u001B[43mhandle\u001B[49m\u001B[43m,\u001B[49m\n\u001B[0;32m    875\u001B[0m \u001B[43m            \u001B[49m\u001B[43mioargs\u001B[49m\u001B[38;5;241;43m.\u001B[39;49m\u001B[43mmode\u001B[49m\u001B[43m,\u001B[49m\n\u001B[0;32m    876\u001B[0m \u001B[43m            \u001B[49m\u001B[43mencoding\u001B[49m\u001B[38;5;241;43m=\u001B[39;49m\u001B[43mioargs\u001B[49m\u001B[38;5;241;43m.\u001B[39;49m\u001B[43mencoding\u001B[49m\u001B[43m,\u001B[49m\n\u001B[0;32m    877\u001B[0m \u001B[43m            \u001B[49m\u001B[43merrors\u001B[49m\u001B[38;5;241;43m=\u001B[39;49m\u001B[43merrors\u001B[49m\u001B[43m,\u001B[49m\n\u001B[0;32m    878\u001B[0m \u001B[43m            \u001B[49m\u001B[43mnewline\u001B[49m\u001B[38;5;241;43m=\u001B[39;49m\u001B[38;5;124;43m\"\u001B[39;49m\u001B[38;5;124;43m\"\u001B[39;49m\u001B[43m,\u001B[49m\n\u001B[0;32m    879\u001B[0m \u001B[43m        \u001B[49m\u001B[43m)\u001B[49m\n\u001B[0;32m    880\u001B[0m     \u001B[38;5;28;01melse\u001B[39;00m:\n\u001B[0;32m    881\u001B[0m         \u001B[38;5;66;03m# Binary mode\u001B[39;00m\n\u001B[0;32m    882\u001B[0m         handle \u001B[38;5;241m=\u001B[39m \u001B[38;5;28mopen\u001B[39m(handle, ioargs\u001B[38;5;241m.\u001B[39mmode)\n",
      "\u001B[1;31mFileNotFoundError\u001B[0m: [Errno 2] No such file or directory: 'connnected_economic_data/connnected_economic_data_8.csv'"
     ]
    }
   ],
   "execution_count": 50
  },
  {
   "metadata": {
    "ExecuteTime": {
     "end_time": "2025-05-13T12:45:42.866490Z",
     "start_time": "2025-05-13T12:45:42.865989Z"
    }
   },
   "cell_type": "code",
   "source": [
    "data = pd.read_csv(\"raw_salary_compile/combined_salary_2.csv\", low_memory=False)\n",
    "query = \"\"\"\n",
    "    SELECT max(salary) \n",
    "    from data\n",
    "    where period = '2021_H1' and seniority = 'Junior'\n",
    "\"\"\"\n",
    "\n",
    "# Виконання запиту\n",
    "unique_bonuses_flag = ps.sqldf(query, locals())\n",
    "\n",
    "# Виведення результату\n",
    "print(unique_bonuses_flag)"
   ],
   "id": "ba824600e7429a6b",
   "outputs": [],
   "execution_count": null
  }
 ],
 "metadata": {
  "kernelspec": {
   "display_name": "Python 3",
   "language": "python",
   "name": "python3"
  },
  "language_info": {
   "codemirror_mode": {
    "name": "ipython",
    "version": 2
   },
   "file_extension": ".py",
   "mimetype": "text/x-python",
   "name": "python",
   "nbconvert_exporter": "python",
   "pygments_lexer": "ipython2",
   "version": "2.7.6"
  }
 },
 "nbformat": 4,
 "nbformat_minor": 5
}
